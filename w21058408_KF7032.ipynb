{
 "cells": [
  {
   "cell_type": "markdown",
   "id": "92410d94",
   "metadata": {},
   "source": [
    "# 1. Introduction: The Crime Analysis Task"
   ]
  },
  {
   "cell_type": "markdown",
   "id": "cd08f859",
   "metadata": {},
   "source": [
    "### 1.1 Background of the task\n",
    "\n",
    "Violent crimes are among the top concern of government, and policy makers and the pledge to reduce or ‘fight crime’ is among the top agenda of politicians. [1] remarked that the drive for the authorities to publish crime data publicly has increased in the last decade, prompting the UK to publish crime statistics in a public website called police.uk. This report will review existing literature to understand the relationship between violent crimes, firearm incidents and drug offences.\n",
    "\n",
    "The types of criminal activities considered as violent crimes differs in different countries. In the UK, murder and manslaughter, assault, knife and gun crimes, attack using corrosive substances, and robberies are considered violent crimes [2]. However, the US adds forcible rape and aggravated assault in addition to crimes considered in the UK (except acid attacks) as violent crimes [3]. \n",
    "\n",
    "In 2018, Birmingham was cited as the ‘gun and gang capital’ of the UK after reportedly witnessing more than twice the national average for firearm incidents [4] quoted in [5]. Homicide, which is a common result of violent crimes, is a leading cause of death worldwide and firearms are the leading means making up about 48% to 74% of homicides [6]. \n",
    "\n",
    "Similarly, substance/drug abuse and alcohol misuse at the individual, family or neighborhood levels  have been associated with increased incidence of adolescent firearm homicide [7]. Furthermore, stricter gun control especially handguns have been found to correlate with less suicide deaths ([8] quoted in [9]) while [10] concluded that a 35% increase in gun theft facilitated a 29% increase in firearm violent crime in the US in recent years. \n",
    "\n"
   ]
  },
  {
   "cell_type": "markdown",
   "id": "efa66536",
   "metadata": {},
   "source": [
    "### 1.2 Aims and objectives of this report\n",
    "\n",
    "This report aims to analyze the UK crime data focusing on violent crime, firearm incidents and drug offences to determine if violent crime is increasing, and if there is a correlation between firearm incidents and drug offences. This report will also analyze the proportion of firearm incident per head in the UK to understand if Birmingham’s has the highest. Due to the size of the full dataset, these analyses were tested on a subset of the dataset first before repeating same steps on the whole dataset. "
   ]
  },
  {
   "cell_type": "markdown",
   "id": "87873374",
   "metadata": {},
   "source": [
    "### 1.3 Technical Approach\n",
    "\n",
    "To achieve the aims of this report, the following approach will be followed:\n",
    "\n",
    "a.\tImport all relevant libraries to support both big data and cloud computing aspects of the assessment.\n",
    "\n",
    "b.\tImport all datasets needed namely, all_crimes dataset, 1% sample of all_crimes dataset, and the postcode dataset. The all_crimes dataset alone is sufficient in analyzing whether violent crimes are increasing and whether firearm incidents are closely associated with drugs offences. The sample dataset was first utilized to test the codes before using the full dataset.\n",
    "\n",
    "c.\tExtract the column(s) relating to the relevant crime in claim 1 (“Violent crime”). This report is only interested in the ‘Violent crime’ and ‘Violence and sexual offences’ crime types. To view a time series of violent crime occurrence, the monthly count of violent crimes is visualized using sm.tsa.seasonal_decompose() function in pandas. The monthly counts and annual average counts of Violent crimes are also viewed as a line chart. \n",
    "\n",
    "d.\tTo investigate if there are more firearm incidents per head in Birmingham than anywhere else in the UK, the chosen approach is to analyze this annually instead of monthly. Firstly, the rows/columns relating to firearm incidents are extracted from all_crimes dataset and this is joined with the postcode dataset. Then the annual count of all firearm incidents is gotten for all cities (saved as Districts) in the UK, and the top 5 districts annually are ranked. The ranking of Birmingham over years was extracted.\n",
    "\n",
    "e.\tTo investigate if firearm related crimes are correlated with drug offences, the rows/columns  relating to firearm incidents are extracted from the crime dataset. Afterwards, the monthly counts of both crimes are gotten and are visualized using a scatterplot and the correlation coefficients are obtained. \n"
   ]
  },
  {
   "cell_type": "markdown",
   "id": "a9bae541",
   "metadata": {},
   "source": [
    "# 2. Component Selection and Data Pipeline Implementation code"
   ]
  },
  {
   "cell_type": "code",
   "execution_count": 1,
   "id": "499db644",
   "metadata": {},
   "outputs": [],
   "source": [
    "import warnings\n",
    "warnings.filterwarnings(\"ignore\") \n",
    "import itertools\n",
    "\n",
    "import numpy as np\n",
    "import pandas as pd\n",
    "from pandas.plotting import scatter_matrix\n",
    "\n",
    "from pyspark import SparkFiles\n",
    "from pyspark.sql import SparkSession, Row\n",
    "from pyspark.sql.window import Window\n",
    "import pyspark.sql.functions as f \n",
    "from pyspark.sql.functions import count, avg, sum, col, to_date, lit, when, coalesce, year, row_number\n",
    "from pyspark.ml.feature import VectorAssembler\n",
    "from pyspark.ml.linalg import Vectors\n",
    "from pyspark.ml.stat import Correlation, Summarizer\n",
    "\n",
    "%matplotlib inline\n",
    "import seaborn as sns; sns.set_theme()\n",
    "import matplotlib.pyplot as plt \n",
    "import statsmodels.api as sm \n",
    "from statsmodels.tsa.stattools import adfuller  "
   ]
  },
  {
   "cell_type": "code",
   "execution_count": 2,
   "id": "90ca46f5",
   "metadata": {},
   "outputs": [
    {
     "data": {
      "text/html": [
       "\n",
       "        <div>\n",
       "            <p><b>SparkContext</b></p>\n",
       "\n",
       "            <p><a href=\"http://a2de1303069d:4040\">Spark UI</a></p>\n",
       "\n",
       "            <dl>\n",
       "              <dt>Version</dt>\n",
       "                <dd><code>v3.1.2</code></dd>\n",
       "              <dt>Master</dt>\n",
       "                <dd><code>local[*]</code></dd>\n",
       "              <dt>AppName</dt>\n",
       "                <dd><code>Python Spark app</code></dd>\n",
       "            </dl>\n",
       "        </div>\n",
       "        "
      ],
      "text/plain": [
       "<SparkContext master=local[*] appName=Python Spark app>"
      ]
     },
     "execution_count": 2,
     "metadata": {},
     "output_type": "execute_result"
    }
   ],
   "source": [
    "spark = SparkSession.builder.appName(\"Python Spark app\").getOrCreate()\n",
    "sc = spark.sparkContext\n",
    "sc"
   ]
  },
  {
   "cell_type": "code",
   "execution_count": 3,
   "id": "41d9e4ed",
   "metadata": {},
   "outputs": [],
   "source": [
    "# upload a subset of the deprivation dataset\n",
    "#  this df was used in the developement\n",
    "df = spark.read.csv('Sample_1pc_Data.csv', header = 'true', inferSchema= True)"
   ]
  },
  {
   "cell_type": "code",
   "execution_count": 3,
   "id": "bae11c3d",
   "metadata": {},
   "outputs": [],
   "source": [
    "# upload all_crimes dataset\n",
    "url = \"https://22kf7032unn.blob.core.windows.net/unn/all_crimes21_hdr.txt.gz\"\n",
    "spark.sparkContext.addFile(url)\n",
    "df = spark.read.csv(\"file://\" + SparkFiles.get(\"all_crimes21_hdr.txt.gz\"), header=True, inferSchema= True)"
   ]
  },
  {
   "cell_type": "code",
   "execution_count": 4,
   "id": "baebd86e",
   "metadata": {},
   "outputs": [
    {
     "name": "stdout",
     "output_type": "stream",
     "text": [
      "+--------+-------+------------------------------+------------------------------+---------+---------+--------------------------+---------+---------------------------------+---------------------+---------------------+-------+\n",
      "|Crime ID|Month  |Reported by                   |Falls within                  |Longitude|Latitude |Location                  |LSOA code|LSOA name                        |Crime type           |Last outcome category|Context|\n",
      "+--------+-------+------------------------------+------------------------------+---------+---------+--------------------------+---------+---------------------------------+---------------------+---------------------+-------+\n",
      "|null    |2010-12|Avon and Somerset Constabulary|Avon and Somerset Constabulary|-0.8056  |51.819143|On or near Norfolk Terrace|E01017662|Aylesbury Vale 015C              |Other crime          |null                 |null   |\n",
      "|null    |2010-12|Avon and Somerset Constabulary|Avon and Somerset Constabulary|-2.494366|51.418169|On or near Keynsham Road  |E01014399|Bath and North East Somerset 001A|Anti-social behaviour|null                 |null   |\n",
      "|null    |2010-12|Avon and Somerset Constabulary|Avon and Somerset Constabulary|-2.511927|51.409435|On or near Harlech Close  |E01014399|Bath and North East Somerset 001A|Anti-social behaviour|null                 |null   |\n",
      "|null    |2010-12|Avon and Somerset Constabulary|Avon and Somerset Constabulary|-2.511571|51.414895|On or near Orchard Close  |E01014399|Bath and North East Somerset 001A|Anti-social behaviour|null                 |null   |\n",
      "|null    |2010-12|Avon and Somerset Constabulary|Avon and Somerset Constabulary|-2.511927|51.409435|On or near Harlech Close  |E01014399|Bath and North East Somerset 001A|Anti-social behaviour|null                 |null   |\n",
      "+--------+-------+------------------------------+------------------------------+---------+---------+--------------------------+---------+---------------------------------+---------------------+---------------------+-------+\n",
      "only showing top 5 rows\n",
      "\n"
     ]
    }
   ],
   "source": [
    "df.show(5, truncate=False)"
   ]
  },
  {
   "cell_type": "code",
   "execution_count": 5,
   "id": "79a70f6c",
   "metadata": {},
   "outputs": [
    {
     "name": "stdout",
     "output_type": "stream",
     "text": [
      "root\n",
      " |-- Crime ID: string (nullable = true)\n",
      " |-- Month: string (nullable = true)\n",
      " |-- Reported by: string (nullable = true)\n",
      " |-- Falls within: string (nullable = true)\n",
      " |-- Longitude: double (nullable = true)\n",
      " |-- Latitude: double (nullable = true)\n",
      " |-- Location: string (nullable = true)\n",
      " |-- LSOA code: string (nullable = true)\n",
      " |-- LSOA name: string (nullable = true)\n",
      " |-- Crime type: string (nullable = true)\n",
      " |-- Last outcome category: string (nullable = true)\n",
      " |-- Context: string (nullable = true)\n",
      "\n"
     ]
    }
   ],
   "source": [
    "df.printSchema()"
   ]
  },
  {
   "cell_type": "code",
   "execution_count": 6,
   "id": "02fae9df",
   "metadata": {},
   "outputs": [
    {
     "data": {
      "text/plain": [
       "65078250"
      ]
     },
     "execution_count": 6,
     "metadata": {},
     "output_type": "execute_result"
    }
   ],
   "source": [
    "# check how many observations (i.e. rows) the dataset has\n",
    "df.count()"
   ]
  },
  {
   "cell_type": "code",
   "execution_count": 7,
   "id": "186a7619",
   "metadata": {},
   "outputs": [
    {
     "name": "stdout",
     "output_type": "stream",
     "text": [
      "+--------+-----+-----------+------------+---------+--------+--------+---------+---------+----------+---------------------+--------+\n",
      "|Crime ID|Month|Reported by|Falls within|Longitude|Latitude|Location|LSOA code|LSOA name|Crime type|Last outcome category| Context|\n",
      "+--------+-----+-----------+------------+---------+--------+--------+---------+---------+----------+---------------------+--------+\n",
      "|24242335|    0|          0|           0|   957447|  957447|       0|  2528265|  2528265|         0|             26418132|64955845|\n",
      "+--------+-----+-----------+------------+---------+--------+--------+---------+---------+----------+---------------------+--------+\n",
      "\n"
     ]
    }
   ],
   "source": [
    "# display missing values in the dataset\n",
    "df_nulls = df.agg(*[f.count(f.when(f.isnull(c), c)).alias(c) for c in df.columns])\n",
    "df_nulls.show()"
   ]
  },
  {
   "cell_type": "code",
   "execution_count": 8,
   "id": "c0d3f9be",
   "metadata": {},
   "outputs": [
    {
     "name": "stdout",
     "output_type": "stream",
     "text": [
      "+--------+-------+--------------------+--------------------+---------+---------+--------------------+---------+--------------------+--------------------+---------------------+-------+\n",
      "|Crime ID|  Month|         Reported by|        Falls within|Longitude| Latitude|            Location|LSOA code|           LSOA name|          Crime type|Last outcome category|Context|\n",
      "+--------+-------+--------------------+--------------------+---------+---------+--------------------+---------+--------------------+--------------------+---------------------+-------+\n",
      "|    null|2010-12|Avon and Somerset...|Avon and Somerset...|  -0.8056|51.819143|On or near Norfol...|E01017662| Aylesbury Vale 015C|         Other crime|                 null|   null|\n",
      "|    null|2010-12|Avon and Somerset...|Avon and Somerset...|-2.494366|51.418169|On or near Keynsh...|E01014399|Bath and North Ea...|Anti-social behav...|                 null|   null|\n",
      "|    null|2010-12|Avon and Somerset...|Avon and Somerset...|-2.511927|51.409435|On or near Harlec...|E01014399|Bath and North Ea...|Anti-social behav...|                 null|   null|\n",
      "|    null|2010-12|Avon and Somerset...|Avon and Somerset...|-2.511571|51.414895|On or near Orchar...|E01014399|Bath and North Ea...|Anti-social behav...|                 null|   null|\n",
      "|    null|2010-12|Avon and Somerset...|Avon and Somerset...|-2.511927|51.409435|On or near Harlec...|E01014399|Bath and North Ea...|Anti-social behav...|                 null|   null|\n",
      "+--------+-------+--------------------+--------------------+---------+---------+--------------------+---------+--------------------+--------------------+---------------------+-------+\n",
      "only showing top 5 rows\n",
      "\n"
     ]
    }
   ],
   "source": [
    "# since the missing data in the LSOA code and LSOA name is just about 4% of the entire dataset, those rows would be \n",
    "# discarded. The Crime ID column is not material so that would be removed entirely.\n",
    "df = df.na.drop(subset = ['LSOA code', 'LSOA name'])\n",
    "df.show(5)"
   ]
  },
  {
   "cell_type": "markdown",
   "id": "c536ff89",
   "metadata": {},
   "source": [
    "# Claim 1: Violent Crimes are increasing"
   ]
  },
  {
   "cell_type": "markdown",
   "id": "654043e3",
   "metadata": {},
   "source": [
    "## Data Extraction and Filtering\n",
    "\n",
    "This section explained the process of extracting the relevant rows/columns needed to access the first claim. \n",
    "\n",
    "From the dataset violent crimes were previously recorded as 'Violent crimes' up until April 2013 when the nomenclature changed to  'Violence and sexual offences'. Hence, both crime types are extracted alongside the 'Month' column."
   ]
  },
  {
   "cell_type": "code",
   "execution_count": 9,
   "id": "59761860",
   "metadata": {},
   "outputs": [
    {
     "name": "stdout",
     "output_type": "stream",
     "text": [
      "+----------------------------+\n",
      "|Crime type                  |\n",
      "+----------------------------+\n",
      "|Bicycle theft               |\n",
      "|Public order                |\n",
      "|Drugs                       |\n",
      "|Public disorder and weapons |\n",
      "|Other crime                 |\n",
      "|Robbery                     |\n",
      "|Criminal damage and arson   |\n",
      "|Theft from the person       |\n",
      "|Shoplifting                 |\n",
      "|Burglary                    |\n",
      "|Violent crime               |\n",
      "|Other theft                 |\n",
      "|Possession of weapons       |\n",
      "|Violence and sexual offences|\n",
      "|Vehicle crime               |\n",
      "|Anti-social behaviour       |\n",
      "+----------------------------+\n",
      "\n"
     ]
    }
   ],
   "source": [
    "# display unique crimes in Crime type column\n",
    "# use truncate = False to show full output\n",
    "df.select(\"Crime type\").distinct().show(truncate=False)"
   ]
  },
  {
   "cell_type": "code",
   "execution_count": 10,
   "id": "295bef87",
   "metadata": {},
   "outputs": [
    {
     "name": "stdout",
     "output_type": "stream",
     "text": [
      "+-----+\n",
      "|Month|\n",
      "+-----+\n",
      "+-----+\n",
      "\n"
     ]
    }
   ],
   "source": [
    "# check if there are 'Violence and sexual offences' crime type recorded in 2012\n",
    "df.select('Month').where((df['Month'] == '2012-01') & (df['Crime type'] == 'Violence and sexual offences')).show(5)"
   ]
  },
  {
   "cell_type": "code",
   "execution_count": 11,
   "id": "8a58f8e3",
   "metadata": {},
   "outputs": [
    {
     "name": "stdout",
     "output_type": "stream",
     "text": [
      "+-----+\n",
      "|Month|\n",
      "+-----+\n",
      "+-----+\n",
      "\n"
     ]
    }
   ],
   "source": [
    "# check if there are 'Violent crime' crime type recorded in 2015\n",
    "df.select('Month').where((df['Month'] == '2015-01') & (df['Crime type'] == 'Violent crime')).show(5)"
   ]
  },
  {
   "cell_type": "code",
   "execution_count": 12,
   "id": "9a8de0ef",
   "metadata": {},
   "outputs": [
    {
     "name": "stdout",
     "output_type": "stream",
     "text": [
      "+----------+-------------+\n",
      "|      Date|   Crime type|\n",
      "+----------+-------------+\n",
      "|2010-12-01|Violent crime|\n",
      "|2010-12-01|Violent crime|\n",
      "|2010-12-01|Violent crime|\n",
      "|2010-12-01|Violent crime|\n",
      "|2010-12-01|Violent crime|\n",
      "+----------+-------------+\n",
      "only showing top 5 rows\n",
      "\n"
     ]
    }
   ],
   "source": [
    "# extract the Date column and rows relating to 'Violent crime' Crime type only\n",
    "violent_crime = df.select(to_date(col(\"Month\"),\"yyyy-MM\").alias(\"Date\"),'Crime type')\\\n",
    "                    .where((df['Crime type'] == 'Violent crime')|(df['Crime type'] == 'Violence and sexual offences'))\n",
    "violent_crime.show(5)"
   ]
  },
  {
   "cell_type": "markdown",
   "id": "b8424813",
   "metadata": {},
   "source": [
    "## Selection, application, and reasoning behind use of statistical analysis and multiple evaluation measures"
   ]
  },
  {
   "cell_type": "markdown",
   "id": "c36b4bf7",
   "metadata": {},
   "source": [
    "### Objective:\n",
    "To access the claim that Violent crimes are increasing, the occurrence of this crime is counted monthly. Monthly basis was chosen as this is the most granular timeframe recorded in the dataset. Afterwards, a column for 'Year' is added to the dataset and an aggregate measure (average count) is calculated. Average count was used since some years such as 2010 and 2021 do not have records for the entire year."
   ]
  },
  {
   "cell_type": "code",
   "execution_count": 13,
   "id": "d7e0a7fe",
   "metadata": {},
   "outputs": [
    {
     "data": {
      "text/html": [
       "<div>\n",
       "<style scoped>\n",
       "    .dataframe tbody tr th:only-of-type {\n",
       "        vertical-align: middle;\n",
       "    }\n",
       "\n",
       "    .dataframe tbody tr th {\n",
       "        vertical-align: top;\n",
       "    }\n",
       "\n",
       "    .dataframe thead th {\n",
       "        text-align: right;\n",
       "    }\n",
       "</style>\n",
       "<table border=\"1\" class=\"dataframe\">\n",
       "  <thead>\n",
       "    <tr style=\"text-align: right;\">\n",
       "      <th></th>\n",
       "      <th>Date</th>\n",
       "      <th>count</th>\n",
       "    </tr>\n",
       "  </thead>\n",
       "  <tbody>\n",
       "    <tr>\n",
       "      <th>0</th>\n",
       "      <td>2010-12-01</td>\n",
       "      <td>57517</td>\n",
       "    </tr>\n",
       "    <tr>\n",
       "      <th>1</th>\n",
       "      <td>2011-01-01</td>\n",
       "      <td>59776</td>\n",
       "    </tr>\n",
       "    <tr>\n",
       "      <th>2</th>\n",
       "      <td>2011-02-01</td>\n",
       "      <td>56624</td>\n",
       "    </tr>\n",
       "    <tr>\n",
       "      <th>3</th>\n",
       "      <td>2011-03-01</td>\n",
       "      <td>62264</td>\n",
       "    </tr>\n",
       "    <tr>\n",
       "      <th>4</th>\n",
       "      <td>2011-04-01</td>\n",
       "      <td>64060</td>\n",
       "    </tr>\n",
       "  </tbody>\n",
       "</table>\n",
       "</div>"
      ],
      "text/plain": [
       "         Date  count\n",
       "0  2010-12-01  57517\n",
       "1  2011-01-01  59776\n",
       "2  2011-02-01  56624\n",
       "3  2011-03-01  62264\n",
       "4  2011-04-01  64060"
      ]
     },
     "execution_count": 13,
     "metadata": {},
     "output_type": "execute_result"
    }
   ],
   "source": [
    "# count the monthly occurence of crime and sort the Date column in descending order\n",
    "count_by_month = violent_crime.groupBy('Date').count().select('Date', f.col('count').alias('count')).sort('Date')\n",
    "\n",
    "# To use the Time series function in pandas, convert dataset to pandas\n",
    "pcount_by_month = count_by_month.toPandas()\n",
    "pcount_by_month.head()"
   ]
  },
  {
   "cell_type": "code",
   "execution_count": 14,
   "id": "f1a32638",
   "metadata": {},
   "outputs": [
    {
     "data": {
      "text/html": [
       "<div>\n",
       "<style scoped>\n",
       "    .dataframe tbody tr th:only-of-type {\n",
       "        vertical-align: middle;\n",
       "    }\n",
       "\n",
       "    .dataframe tbody tr th {\n",
       "        vertical-align: top;\n",
       "    }\n",
       "\n",
       "    .dataframe thead th {\n",
       "        text-align: right;\n",
       "    }\n",
       "</style>\n",
       "<table border=\"1\" class=\"dataframe\">\n",
       "  <thead>\n",
       "    <tr style=\"text-align: right;\">\n",
       "      <th></th>\n",
       "      <th>Date</th>\n",
       "      <th>count</th>\n",
       "    </tr>\n",
       "  </thead>\n",
       "  <tbody>\n",
       "    <tr>\n",
       "      <th>121</th>\n",
       "      <td>2021-01-01</td>\n",
       "      <td>136351</td>\n",
       "    </tr>\n",
       "    <tr>\n",
       "      <th>122</th>\n",
       "      <td>2021-02-01</td>\n",
       "      <td>130181</td>\n",
       "    </tr>\n",
       "    <tr>\n",
       "      <th>123</th>\n",
       "      <td>2021-03-01</td>\n",
       "      <td>160269</td>\n",
       "    </tr>\n",
       "    <tr>\n",
       "      <th>124</th>\n",
       "      <td>2021-04-01</td>\n",
       "      <td>147015</td>\n",
       "    </tr>\n",
       "    <tr>\n",
       "      <th>125</th>\n",
       "      <td>2021-05-01</td>\n",
       "      <td>163297</td>\n",
       "    </tr>\n",
       "  </tbody>\n",
       "</table>\n",
       "</div>"
      ],
      "text/plain": [
       "           Date   count\n",
       "121  2021-01-01  136351\n",
       "122  2021-02-01  130181\n",
       "123  2021-03-01  160269\n",
       "124  2021-04-01  147015\n",
       "125  2021-05-01  163297"
      ]
     },
     "execution_count": 14,
     "metadata": {},
     "output_type": "execute_result"
    }
   ],
   "source": [
    "pcount_by_month.tail()"
   ]
  },
  {
   "cell_type": "code",
   "execution_count": 15,
   "id": "de081bd4",
   "metadata": {},
   "outputs": [
    {
     "name": "stdout",
     "output_type": "stream",
     "text": [
      "+----+------------------+\n",
      "|Year|        avg(count)|\n",
      "+----+------------------+\n",
      "|2018|140810.91666666666|\n",
      "|2015| 82571.91666666667|\n",
      "|2013|          53705.25|\n",
      "|2014| 65687.41666666667|\n",
      "|2019|148800.91666666666|\n",
      "+----+------------------+\n",
      "only showing top 5 rows\n",
      "\n"
     ]
    }
   ],
   "source": [
    "# looking at the average count of crime annually\n",
    "# count the monthly occurence of crime and sort the Date column in descending order\n",
    "count_by_year = violent_crime.groupBy('Date').count().select('Date', f.col('count').alias('count')).sort('Date')\n",
    "\n",
    "# add 'Year' column\n",
    "count_by_year = count_by_year.withColumn('Year', year(col('Date')))\n",
    "\n",
    "# group by year and get average count\n",
    "count_by_year = count_by_year.groupBy('Year').agg({'count': 'mean'})\n",
    "\n",
    "count_by_year.show(5)"
   ]
  },
  {
   "cell_type": "code",
   "execution_count": 16,
   "id": "a6305a05",
   "metadata": {},
   "outputs": [
    {
     "data": {
      "text/html": [
       "<div>\n",
       "<style scoped>\n",
       "    .dataframe tbody tr th:only-of-type {\n",
       "        vertical-align: middle;\n",
       "    }\n",
       "\n",
       "    .dataframe tbody tr th {\n",
       "        vertical-align: top;\n",
       "    }\n",
       "\n",
       "    .dataframe thead th {\n",
       "        text-align: right;\n",
       "    }\n",
       "</style>\n",
       "<table border=\"1\" class=\"dataframe\">\n",
       "  <thead>\n",
       "    <tr style=\"text-align: right;\">\n",
       "      <th></th>\n",
       "      <th>Year</th>\n",
       "      <th>avg(count)</th>\n",
       "    </tr>\n",
       "  </thead>\n",
       "  <tbody>\n",
       "    <tr>\n",
       "      <th>0</th>\n",
       "      <td>2018</td>\n",
       "      <td>140810.916667</td>\n",
       "    </tr>\n",
       "    <tr>\n",
       "      <th>1</th>\n",
       "      <td>2015</td>\n",
       "      <td>82571.916667</td>\n",
       "    </tr>\n",
       "    <tr>\n",
       "      <th>2</th>\n",
       "      <td>2013</td>\n",
       "      <td>53705.250000</td>\n",
       "    </tr>\n",
       "    <tr>\n",
       "      <th>3</th>\n",
       "      <td>2014</td>\n",
       "      <td>65687.416667</td>\n",
       "    </tr>\n",
       "    <tr>\n",
       "      <th>4</th>\n",
       "      <td>2019</td>\n",
       "      <td>148800.916667</td>\n",
       "    </tr>\n",
       "    <tr>\n",
       "      <th>5</th>\n",
       "      <td>2020</td>\n",
       "      <td>148689.083333</td>\n",
       "    </tr>\n",
       "    <tr>\n",
       "      <th>6</th>\n",
       "      <td>2012</td>\n",
       "      <td>52998.083333</td>\n",
       "    </tr>\n",
       "    <tr>\n",
       "      <th>7</th>\n",
       "      <td>2016</td>\n",
       "      <td>97703.750000</td>\n",
       "    </tr>\n",
       "    <tr>\n",
       "      <th>8</th>\n",
       "      <td>2010</td>\n",
       "      <td>57517.000000</td>\n",
       "    </tr>\n",
       "    <tr>\n",
       "      <th>9</th>\n",
       "      <td>2011</td>\n",
       "      <td>59644.166667</td>\n",
       "    </tr>\n",
       "    <tr>\n",
       "      <th>10</th>\n",
       "      <td>2017</td>\n",
       "      <td>120052.583333</td>\n",
       "    </tr>\n",
       "    <tr>\n",
       "      <th>11</th>\n",
       "      <td>2021</td>\n",
       "      <td>147422.600000</td>\n",
       "    </tr>\n",
       "  </tbody>\n",
       "</table>\n",
       "</div>"
      ],
      "text/plain": [
       "    Year     avg(count)\n",
       "0   2018  140810.916667\n",
       "1   2015   82571.916667\n",
       "2   2013   53705.250000\n",
       "3   2014   65687.416667\n",
       "4   2019  148800.916667\n",
       "5   2020  148689.083333\n",
       "6   2012   52998.083333\n",
       "7   2016   97703.750000\n",
       "8   2010   57517.000000\n",
       "9   2011   59644.166667\n",
       "10  2017  120052.583333\n",
       "11  2021  147422.600000"
      ]
     },
     "execution_count": 16,
     "metadata": {},
     "output_type": "execute_result"
    }
   ],
   "source": [
    "# looking at the yearly count\n",
    "# convert dataset to pandas\n",
    "pcount_by_year = count_by_year.toPandas()\n",
    "pcount_by_year"
   ]
  },
  {
   "cell_type": "markdown",
   "id": "74c4e969",
   "metadata": {},
   "source": [
    "### Observations:\n",
    "From pcount_by_month head and tail, it can be seen that the monthly count of violent crimes was much lower in 2010 and 2011 when compared to 2021. Also, from pcount_by_year, there is a steady decrease in the average annual count of violent crimes between 2011 and 2012 while it remained steady in 2013. However, there is a considerable increase in the average year-on-year count from 2014 to 2019. "
   ]
  },
  {
   "cell_type": "markdown",
   "id": "ac27baef",
   "metadata": {},
   "source": [
    "## Design, Development and reasoning behind use of multiple visualization methods, statistics, and machine learning Models"
   ]
  },
  {
   "cell_type": "markdown",
   "id": "63667c70",
   "metadata": {},
   "source": [
    "### Objective\n",
    "The monthly counts is visualized using a line chart and time series charts. The line chart will show the monthly progression of the counts while the time series charts will show the general trend of the monthly counts, and information about seasonality and residuals. The dataset is also tested for stationarity used the ADF_test function.\n",
    "\n",
    "The annual average counts are also visualized using a barchart as this will clearly show the trend of violent crimes annually."
   ]
  },
  {
   "cell_type": "code",
   "execution_count": 17,
   "id": "4ace882f",
   "metadata": {},
   "outputs": [],
   "source": [
    "# change the index created automatically to an index based on datetimes\n",
    "pcount_by_month.Date = pcount_by_month.Date.astype('datetime64[ns]')\n",
    "pcount_by_month = pcount_by_month.set_index(pd.to_datetime(pcount_by_month.Date))"
   ]
  },
  {
   "cell_type": "code",
   "execution_count": 18,
   "id": "fcd0be32",
   "metadata": {},
   "outputs": [
    {
     "data": {
      "text/plain": [
       "<Figure size 90000x432 with 0 Axes>"
      ]
     },
     "metadata": {},
     "output_type": "display_data"
    },
    {
     "data": {
      "image/png": "[encoded data removed]",
      "text/plain": [
       "<Figure size 432x288 with 1 Axes>"
      ]
     },
     "metadata": {},
     "output_type": "display_data"
    }
   ],
   "source": [
    "# plot a line chart of monthly count of violent crime\n",
    "plt.figure(figsize=(1250, 6))\n",
    "pcount_by_month.plot(x='Date', y='count', marker='.', linestyle='-', linewidth=0.5,subplots=False, \n",
    "                     label='Monthly count', title='Count of Violent crime by Month')\n",
    "plt.ylabel('Count')\n",
    "plt.show()\n"
   ]
  },
  {
   "cell_type": "code",
   "execution_count": 19,
   "id": "a3893a0b",
   "metadata": {},
   "outputs": [
    {
     "data": {
      "image/png": "[encoded data removed]",
      "text/plain": [
       "<Figure size 1008x504 with 4 Axes>"
      ]
     },
     "metadata": {},
     "output_type": "display_data"
    }
   ],
   "source": [
    "# time series decomposition \n",
    "# this allows the decomposition of the data into seasonal, trend and residual components\n",
    "# this block decomposes the Count column\n",
    "decomposition = sm.tsa.seasonal_decompose(pcount_by_month['count'], model='additive', extrapolate_trend='freq')\n",
    "fig = decomposition.plot()\n",
    "fig.set_size_inches(14,7)\n",
    "plt.show()"
   ]
  },
  {
   "cell_type": "code",
   "execution_count": 20,
   "id": "13474a23",
   "metadata": {},
   "outputs": [],
   "source": [
    "# test for stationarity\n",
    "def ADF_test(timeseries, dataDesc):\n",
    "    print(' > Is the {} stationary ?'.format(dataDesc))\n",
    "    dftest = adfuller(timeseries.dropna(), autolag='AIC')\n",
    "    print('Test statistic = {:.3f}'.format(dftest[0]))\n",
    "    print('P-value = {:.3f}'.format(dftest[1]))\n",
    "    print('Critical values :')\n",
    "    for k, v in dftest[4].items():\n",
    "        print('\\t{}: {} - The data is {} stationary with {}% confidence'.format(k, v, 'not' if v<dftest[0] else '',\\\n",
    "                                                                                100-int(k[:-1])))"
   ]
  },
  {
   "cell_type": "code",
   "execution_count": 21,
   "id": "21d8b8f1",
   "metadata": {},
   "outputs": [
    {
     "name": "stdout",
     "output_type": "stream",
     "text": [
      " > Is the Monthly count of violent crime stationary ?\n",
      "Test statistic = -0.293\n",
      "P-value = 0.927\n",
      "Critical values :\n",
      "\t1%: -3.4901313156261384 - The data is not stationary with 99% confidence\n",
      "\t5%: -2.8877122815688776 - The data is not stationary with 95% confidence\n",
      "\t10%: -2.5807296460459184 - The data is not stationary with 90% confidence\n"
     ]
    }
   ],
   "source": [
    "ADF_test(pcount_by_month['count'], 'Monthly count of violent crime') \n",
    "# this shows the monthly count of violent crime is not stationary"
   ]
  },
  {
   "cell_type": "code",
   "execution_count": 22,
   "id": "e306bf36",
   "metadata": {},
   "outputs": [
    {
     "data": {
      "text/plain": [
       "[Text(0.5, 1.0, 'Average count of violent crimes by year')]"
      ]
     },
     "execution_count": 22,
     "metadata": {},
     "output_type": "execute_result"
    },
    {
     "data": {
      "image/png": "[encoded data removed]",
      "text/plain": [
       "<Figure size 432x288 with 1 Axes>"
      ]
     },
     "metadata": {},
     "output_type": "display_data"
    }
   ],
   "source": [
    "# plot a line chart of monthly count of violent crime\n",
    "# visualize this using a boxplot in seaborn. This seems more appropriate.\n",
    "sns.set(style='whitegrid')\n",
    "plt = sns.barplot(y='avg(count)', x='Year', data=pcount_by_year)\n",
    "plt.set_xticklabels(plt.get_xticklabels(), rotation=90)\n",
    "plt.set(title='Average count of violent crimes by year')"
   ]
  },
  {
   "cell_type": "markdown",
   "id": "a3ed6f50",
   "metadata": {},
   "source": [
    "### Observations:\n",
    "\n",
    "These plots show more clearly the earlier observations about the monthly and annual average counts of violent crimes.\n",
    "\n",
    "From the line chart, the lowest count of violent crimes was recorded in 2013. This drop in violent crimes resonates with [11]’s remarks that violent crimes fell dramatically between 1995 and 2013/2014. They authors concluded that this decline was driven by a fall in acquaintance violence on young individuals.\n",
    "\n",
    "However, 2014 to 2019 witnessed a dramatic year-on-year increase in violent crimes also resonating with [12]’s research which confirmed the increasing trend in violent crimes in the UK in the years leading up to 2018. The authors found that that violent crimes were higher in areas with increseased deprivation and alcohol availability.\n",
    "\n",
    "There was a significant drop in early 2020 mainly due to the COVID-19 pandemic and subsequent lockdowns which reduced mobility. This was followed by a big spike in late 2020/early 2021 which recorded the highest monthly count of violent crime throughout the review period. [13] referred to this as ‘post-lockdown bounce-back’. \n",
    "\n",
    "Overall, the claim in 2018 that Violent crimes are increasing is True since there was a significant increase both the monthly and annual average counts of violent crimes in the UK leading up to 2018. The time series chart also show an increasing trend and this was shown to be non-stationary. However, since 2019, average counts of violent crimes have declined marginally year-on-year."
   ]
  },
  {
   "cell_type": "markdown",
   "id": "2e51f620",
   "metadata": {},
   "source": [
    "# Claim 2: Firearm incidents per head in Birmingham is higher than anywhere else in the UK "
   ]
  },
  {
   "cell_type": "markdown",
   "id": "99d8dfc0",
   "metadata": {},
   "source": [
    "## Data Extraction and Filtering\n",
    "\n",
    "Step 1: Determine what constitutes a 'Firearm incident' and extract the rows/columns relating to this crime alongside the 'Month' and 'LSOA name' columns.\n",
    "Assumption: Crime type of “Possession of weapons” whose outcome is “offender sent to prison” is a firearm incident. \n",
    "\n",
    "Step 2: Determine the proxy to be used for towns/cities such as Birmingham from the given datasets. \n",
    "The postcode dataset was chosen as it contains information about 'Districts' which are town/cities in the UK alongside the Population of each postcode in each District. This dataset is then joined with all_crimes dataset on LSOA name which both datasets have.\n",
    "\n",
    "Step 3: Extract the columns relating to crime type, date, district, and population."
   ]
  },
  {
   "cell_type": "code",
   "execution_count": 23,
   "id": "fcd8c888",
   "metadata": {},
   "outputs": [],
   "source": [
    "# extract the Date column and rows relating to 'Drugs' and 'Possession of weapons' Crime type only. For 'Possession \n",
    "# of weapons' Crime type, select rows where the Last outcome category is 'Offender sent to prison'\n",
    "drugs_guns = df.select(to_date(col(\"Month\"),\"yyyy-MM\").alias(\"Date\"),'LSOA name','Crime type', 'Last outcome category')\\\n",
    "        .where((df['Crime type'] == 'Possession of weapons') & (df ['Last outcome category'] == 'Offender sent to prison'))"
   ]
  },
  {
   "cell_type": "code",
   "execution_count": 24,
   "id": "123b94e1",
   "metadata": {},
   "outputs": [
    {
     "name": "stdout",
     "output_type": "stream",
     "text": [
      "+-----------------------+\n",
      "|LSOA name              |\n",
      "+-----------------------+\n",
      "|Sheffield 074C         |\n",
      "|Bradford 039G          |\n",
      "|Liverpool 044D         |\n",
      "|Amber Valley 010C      |\n",
      "|Blackpool 010D         |\n",
      "|Oxford 008A            |\n",
      "|Sheffield 074D         |\n",
      "|Hounslow 014C          |\n",
      "|Hackney 024E           |\n",
      "|Leeds 041B             |\n",
      "|Isle of Anglesey 001A  |\n",
      "|Rhondda Cynon Taf 011C |\n",
      "|North Lincolnshire 008B|\n",
      "|Redditch 004B          |\n",
      "|Leeds 085B             |\n",
      "|Wyre Forest 010A       |\n",
      "|Cornwall 066C          |\n",
      "|Dudley 039B            |\n",
      "|Newham 033C            |\n",
      "|Telford and Wrekin 003C|\n",
      "+-----------------------+\n",
      "only showing top 20 rows\n",
      "\n"
     ]
    }
   ],
   "source": [
    "# take a look at the columns that have location data 'LSOA name'\n",
    "drugs_guns.select('LSOA name').distinct().show(truncate=False)"
   ]
  },
  {
   "cell_type": "code",
   "execution_count": 25,
   "id": "07e60cb4",
   "metadata": {},
   "outputs": [],
   "source": [
    "# load the postcode data\n",
    "url = \"https://22kf7032unn.blob.core.windows.net/unn/postcodes.gz\"\n",
    "spark.sparkContext.addFile(url)\n",
    "postcodes = spark.read.csv(\"file://\" + SparkFiles.get(\"postcodes.gz\"), inferSchema= True)"
   ]
  },
  {
   "cell_type": "code",
   "execution_count": 26,
   "id": "ea35ae69",
   "metadata": {},
   "outputs": [
    {
     "name": "stdout",
     "output_type": "stream",
     "text": [
      "+-------+---+---------+---------+------+------+--------+----+-------------+-------------+----------+---------+--------+---------+--------------+----------+----------+----+----+----+----+----+----+--------------------+--------------------+----+----+\n",
      "|    _c0|_c1|      _c2|      _c3|   _c4|   _c5|     _c6| _c7|          _c8|          _c9|      _c10|     _c11|    _c12|     _c13|          _c14|      _c15|      _c16|_c17|_c18|_c19|_c20|_c21|_c22|                _c23|                _c24|_c25|_c26|\n",
      "+-------+---+---------+---------+------+------+--------+----+-------------+-------------+----------+---------+--------+---------+--------------+----------+----------+----+----+----+----+----+----+--------------------+--------------------+----+----+\n",
      "|AB1 0AA| No|57.101478|-2.242852|385386|801193|NJ853011|null|Aberdeen City|Lower Deeside| S12000033|S13002484|Scotland|S99999999|Aberdeen South|1980-01-01|1996-06-01|null|null|null|null|null|null|Cults, Bieldside ...|Accessible small ...|null|  46|\n",
      "|AB1 0AB| No|57.102558|-2.246309|385177|801314|NJ851013|null|Aberdeen City|Lower Deeside| S12000033|S13002484|Scotland|S99999999|Aberdeen South|1980-01-01|1996-06-01|null|null|null|null|null|null|Cults, Bieldside ...|Accessible small ...|null|  61|\n",
      "|AB1 0AD| No| 57.10056|-2.248342|385053|801092|NJ850010|null|Aberdeen City|Lower Deeside| S12000033|S13002484|Scotland|S99999999|Aberdeen South|1980-01-01|1996-06-01|null|null|null|null|null|null|Cults, Bieldside ...|Accessible small ...|null|  45|\n",
      "+-------+---+---------+---------+------+------+--------+----+-------------+-------------+----------+---------+--------+---------+--------------+----------+----------+----+----+----+----+----+----+--------------------+--------------------+----+----+\n",
      "only showing top 3 rows\n",
      "\n"
     ]
    }
   ],
   "source": [
    "postcodes.show(3)"
   ]
  },
  {
   "cell_type": "code",
   "execution_count": 27,
   "id": "427db3ca",
   "metadata": {},
   "outputs": [
    {
     "name": "stdout",
     "output_type": "stream",
     "text": [
      "+--------+------+---------+---------+-------+--------+--------+------+-------------+-------------+------------+---------+--------+----------+--------------+----------+----------+------+------------+----------+----------+-----------+------------------+-------------------------+--------------------+------+--------+\n",
      "|Postcode|InUse?| Latitude|Longitude|Easting|Northing| GridRef|County|     District|         Ward|DistrictCode| WardCode| Country|CountyCode|  Constituency|Introduced|Terminated|Parish|NationalPark|Population|Households|BuiltUpArea|Builtupsubdivision|Lowerlayersuperoutputarea|         Rural/urban|Region|Altitude|\n",
      "+--------+------+---------+---------+-------+--------+--------+------+-------------+-------------+------------+---------+--------+----------+--------------+----------+----------+------+------------+----------+----------+-----------+------------------+-------------------------+--------------------+------+--------+\n",
      "| AB1 0AA|    No|57.101478|-2.242852| 385386|  801193|NJ853011|  null|Aberdeen City|Lower Deeside|   S12000033|S13002484|Scotland| S99999999|Aberdeen South|1980-01-01|1996-06-01|  null|        null|      null|      null|       null|              null|     Cults, Bieldside ...|Accessible small ...|  null|      46|\n",
      "| AB1 0AB|    No|57.102558|-2.246309| 385177|  801314|NJ851013|  null|Aberdeen City|Lower Deeside|   S12000033|S13002484|Scotland| S99999999|Aberdeen South|1980-01-01|1996-06-01|  null|        null|      null|      null|       null|              null|     Cults, Bieldside ...|Accessible small ...|  null|      61|\n",
      "+--------+------+---------+---------+-------+--------+--------+------+-------------+-------------+------------+---------+--------+----------+--------------+----------+----------+------+------------+----------+----------+-----------+------------------+-------------------------+--------------------+------+--------+\n",
      "only showing top 2 rows\n",
      "\n"
     ]
    }
   ],
   "source": [
    "# add column names to the dataset\n",
    "postcodes = postcodes.toDF('Postcode','InUse?','Latitude','Longitude','Easting','Northing','GridRef','County','District',\\\n",
    "                        'Ward','DistrictCode','WardCode','Country','CountyCode','Constituency','Introduced','Terminated',\\\n",
    "                        'Parish','NationalPark','Population','Households','BuiltUpArea','Builtupsubdivision',\\\n",
    "                           'Lowerlayersuperoutputarea','Rural/urban','Region','Altitude')\n",
    "postcodes.show(2)"
   ]
  },
  {
   "cell_type": "code",
   "execution_count": 28,
   "id": "db5f2f95",
   "metadata": {},
   "outputs": [
    {
     "name": "stdout",
     "output_type": "stream",
     "text": [
      "+---------------------+----------------------------+\n",
      "|District             |Lowerlayersuperoutputarea   |\n",
      "+---------------------+----------------------------+\n",
      "|Aberdeen City        |Rosemount - 02              |\n",
      "|Aberdeen City        |Bucksburn North - 01        |\n",
      "|Aberdeenshire        |Durno-Chapel of Garioch - 02|\n",
      "|Dacorum              |Dacorum 001C                |\n",
      "|Bromsgrove           |Bromsgrove 009C             |\n",
      "|Solihull             |Solihull 028B               |\n",
      "|South Somerset       |South Somerset 020C         |\n",
      "|Pendle               |Pendle 012D                 |\n",
      "|Blackburn with Darwen|Blackburn with Darwen 009C  |\n",
      "|Ribble Valley        |Ribble Valley 002A          |\n",
      "|Bradford             |Bradford 048D               |\n",
      "|Bradford             |Bradford 061E               |\n",
      "|Bolton               |Bolton 016E                 |\n",
      "|Bolton               |Bolton 021C                 |\n",
      "|Brighton and Hove    |Brighton and Hove 010B      |\n",
      "|South Gloucestershire|South Gloucestershire 006D  |\n",
      "|Cardiff              |Cardiff 040C                |\n",
      "|Rhondda Cynon Taf    |Rhondda Cynon Taf 014E      |\n",
      "|Vale of Glamorgan    |The Vale of Glamorgan 013A  |\n",
      "|Wirral               |Wirral 007C                 |\n",
      "+---------------------+----------------------------+\n",
      "only showing top 20 rows\n",
      "\n"
     ]
    }
   ],
   "source": [
    "# To differentiate Birmingham from other cities, the column(s) that has the information about the cities should be\n",
    "# located in the dataset. According to --- that column is 'District'. The 'Lowerlayersuperoutputarea' column in Postcode\n",
    "# dataset is also the LSOA name in the all_crimes dataset\n",
    "postcodes.select('District','Lowerlayersuperoutputarea').distinct().show(truncate=False)"
   ]
  },
  {
   "cell_type": "code",
   "execution_count": 29,
   "id": "23bedd42",
   "metadata": {},
   "outputs": [],
   "source": [
    "# join the crimes dataset with the postcodes dataset on the name of the name of the LSOA \n",
    "firearm_incidents = drugs_guns.join(postcodes, drugs_guns[\"LSOA name\"] == postcodes[\"Lowerlayersuperoutputarea\"])"
   ]
  },
  {
   "cell_type": "code",
   "execution_count": 30,
   "id": "6e159a4a",
   "metadata": {},
   "outputs": [
    {
     "name": "stdout",
     "output_type": "stream",
     "text": [
      "+----------+-----------------+---------------------+-----------------------+--------+------+--------+---------+-------+--------+--------+----------+------------+------------+------------+---------+-------+----------+--------------+----------+----------+------+------------+----------+----------+-----------+------------------+-------------------------+-------------------+-------------+--------+\n",
      "|Date      |LSOA name        |Crime type           |Last outcome category  |Postcode|InUse?|Latitude|Longitude|Easting|Northing|GridRef |County    |District    |Ward        |DistrictCode|WardCode |Country|CountyCode|Constituency  |Introduced|Terminated|Parish|NationalPark|Population|Households|BuiltUpArea|Builtupsubdivision|Lowerlayersuperoutputarea|Rural/urban        |Region       |Altitude|\n",
      "+----------+-----------------+---------------------+-----------------------+--------+------+--------+---------+-------+--------+--------+----------+------------+------------+------------+---------+-------+----------+--------------+----------+----------+------+------------+----------+----------+-----------+------------------+-------------------------+-------------------+-------------+--------+\n",
      "|2013-09-01|Amber Valley 010C|Possession of weapons|Offender sent to prison|DE5 1LE |No    |53.02024|-1.47328 |435430 |347123  |SK354471|Derbyshire|Amber Valley|Belper South| E07000032  |E05008520|England|E10000007 |Mid Derbyshire|1980-01-01|1992-12-01|Belper|null        |null      |null      |Belper     |null              |Amber Valley 010C        |Urban city and town|East Midlands|121     |\n",
      "+----------+-----------------+---------------------+-----------------------+--------+------+--------+---------+-------+--------+--------+----------+------------+------------+------------+---------+-------+----------+--------------+----------+----------+------+------------+----------+----------+-----------+------------------+-------------------------+-------------------+-------------+--------+\n",
      "only showing top 1 row\n",
      "\n"
     ]
    }
   ],
   "source": [
    "firearm_incidents.show(1, truncate = False)"
   ]
  },
  {
   "cell_type": "code",
   "execution_count": 31,
   "id": "4afaff29",
   "metadata": {},
   "outputs": [
    {
     "name": "stdout",
     "output_type": "stream",
     "text": [
      "+----------+--------------------+---------------------+----------------+----------+\n",
      "|      Date|          Crime type|Last outcome category|        District|Population|\n",
      "+----------+--------------------+---------------------+----------------+----------+\n",
      "|2013-05-01|Possession of wea...| Offender sent to ...|Bristol, City of|        86|\n",
      "|2013-05-01|Possession of wea...| Offender sent to ...|Bristol, City of|        33|\n",
      "|2013-05-01|Possession of wea...| Offender sent to ...|Bristol, City of|        10|\n",
      "+----------+--------------------+---------------------+----------------+----------+\n",
      "only showing top 3 rows\n",
      "\n"
     ]
    }
   ],
   "source": [
    "# select relevant columns which are: Crime types of 'Possession of weapons' where the Last outcome category was \n",
    "# 'Offender sent to prison', the Postcode, District, and Population\n",
    "firearm_incidents = firearm_incidents.select('Date','Crime type', 'Last outcome category','District', 'Population')\n",
    "firearm_incidents.show(3)"
   ]
  },
  {
   "cell_type": "code",
   "execution_count": 32,
   "id": "f64d7c51",
   "metadata": {},
   "outputs": [
    {
     "name": "stdout",
     "output_type": "stream",
     "text": [
      "+----+----------+---------------------+--------+----------+\n",
      "|Date|Crime type|Last outcome category|District|Population|\n",
      "+----+----------+---------------------+--------+----------+\n",
      "|   0|         0|                    0|       0|   1174500|\n",
      "+----+----------+---------------------+--------+----------+\n",
      "\n"
     ]
    }
   ],
   "source": [
    "# get the count of null values\n",
    "df_nulls = firearm_incidents.agg(*[f.count(f.when(f.isnull(c), c)).alias(c) for c in firearm_incidents.columns])\n",
    "df_nulls.show()"
   ]
  },
  {
   "cell_type": "code",
   "execution_count": 33,
   "id": "9a72d9e5",
   "metadata": {},
   "outputs": [
    {
     "data": {
      "text/plain": [
       "1590340"
      ]
     },
     "execution_count": 33,
     "metadata": {},
     "output_type": "execute_result"
    }
   ],
   "source": [
    "firearm_incidents.count()"
   ]
  },
  {
   "cell_type": "markdown",
   "id": "9041a7e1",
   "metadata": {},
   "source": [
    "## Selection, application, and reasoning behind use of statistical analysis and multiple evaluation measures"
   ]
  },
  {
   "cell_type": "markdown",
   "id": "afb49f15",
   "metadata": {},
   "source": [
    "### Objective\n",
    "This section shows the process of dealing with missing values as well as getting the monthly/annual count of firearm incidents and the population for each district. The rate of incident per head for each District is derived by dividing the count of occurrence by the population of the district."
   ]
  },
  {
   "cell_type": "code",
   "execution_count": 34,
   "id": "105e154c",
   "metadata": {},
   "outputs": [
    {
     "name": "stdout",
     "output_type": "stream",
     "text": [
      "+--------------+------+\n",
      "|     District2|values|\n",
      "+--------------+------+\n",
      "|     Worcester|    40|\n",
      "|     Charnwood|    48|\n",
      "|North Kesteven|    34|\n",
      "| Epping Forest|    39|\n",
      "|          Arun|    38|\n",
      "+--------------+------+\n",
      "only showing top 5 rows\n",
      "\n"
     ]
    }
   ],
   "source": [
    "# since the number of nulls in the Population column is substantial (about 71% of the whole dataset), the values should be \n",
    "# imputated using the mean population in each district instead of dropped or replacing by zero. Add these mean values as a\n",
    "# column named 'mean_val'\n",
    "df_mean = firearm_incidents.groupBy('District').agg(f.mean(firearm_incidents['Population']).alias('mean_val'))\n",
    "\n",
    "# rename this column to differentiate it from the District column in the original dataset\n",
    "df_mean = df_mean.withColumnRenamed(\"District\",\"District2\") \n",
    "\n",
    "# round up the values to whole numbers and add this as a column named 'values'\n",
    "df_mean = df_mean.withColumn('values', f.bround(df_mean['mean_val']).cast('int'))\n",
    "\n",
    "# select just the districts and the values in whole numbers\n",
    "df_mean = df_mean.select('District2', 'values') \n",
    "df_mean.show(5)"
   ]
  },
  {
   "cell_type": "code",
   "execution_count": 35,
   "id": "5685249f",
   "metadata": {},
   "outputs": [
    {
     "name": "stdout",
     "output_type": "stream",
     "text": [
      "+----------+---------------------+-----------------------+---------+----------+---------+------+\n",
      "|Date      |Crime type           |Last outcome category  |District |Population|District2|values|\n",
      "+----------+---------------------+-----------------------+---------+----------+---------+------+\n",
      "|2013-05-01|Possession of weapons|Offender sent to prison|Worcester|null      |Worcester|40    |\n",
      "|2013-05-01|Possession of weapons|Offender sent to prison|Worcester|null      |Worcester|40    |\n",
      "|2013-05-01|Possession of weapons|Offender sent to prison|Worcester|null      |Worcester|40    |\n",
      "|2013-05-01|Possession of weapons|Offender sent to prison|Worcester|null      |Worcester|40    |\n",
      "|2013-05-01|Possession of weapons|Offender sent to prison|Worcester|null      |Worcester|40    |\n",
      "|2013-05-01|Possession of weapons|Offender sent to prison|Worcester|null      |Worcester|40    |\n",
      "|2013-05-01|Possession of weapons|Offender sent to prison|Worcester|null      |Worcester|40    |\n",
      "|2013-05-01|Possession of weapons|Offender sent to prison|Worcester|null      |Worcester|40    |\n",
      "|2013-05-01|Possession of weapons|Offender sent to prison|Worcester|null      |Worcester|40    |\n",
      "|2013-05-01|Possession of weapons|Offender sent to prison|Worcester|null      |Worcester|40    |\n",
      "+----------+---------------------+-----------------------+---------+----------+---------+------+\n",
      "only showing top 10 rows\n",
      "\n"
     ]
    }
   ],
   "source": [
    "firearm_incidents2 = firearm_incidents.join(df_mean, firearm_incidents[\"District\"] == df_mean[\"District2\"])\n",
    "firearm_incidents2.show(10, truncate = False)"
   ]
  },
  {
   "cell_type": "code",
   "execution_count": 36,
   "id": "0fc90519",
   "metadata": {},
   "outputs": [
    {
     "name": "stdout",
     "output_type": "stream",
     "text": [
      "+----------+---------------------+-----------------------+---------+----------+---------+------+\n",
      "|Date      |Crime type           |Last outcome category  |District |Population|District2|values|\n",
      "+----------+---------------------+-----------------------+---------+----------+---------+------+\n",
      "|2013-05-01|Possession of weapons|Offender sent to prison|Worcester|40        |Worcester|40    |\n",
      "|2013-05-01|Possession of weapons|Offender sent to prison|Worcester|40        |Worcester|40    |\n",
      "|2013-05-01|Possession of weapons|Offender sent to prison|Worcester|40        |Worcester|40    |\n",
      "|2013-05-01|Possession of weapons|Offender sent to prison|Worcester|40        |Worcester|40    |\n",
      "|2013-05-01|Possession of weapons|Offender sent to prison|Worcester|40        |Worcester|40    |\n",
      "|2013-05-01|Possession of weapons|Offender sent to prison|Worcester|40        |Worcester|40    |\n",
      "|2013-05-01|Possession of weapons|Offender sent to prison|Worcester|40        |Worcester|40    |\n",
      "|2013-05-01|Possession of weapons|Offender sent to prison|Worcester|40        |Worcester|40    |\n",
      "|2013-05-01|Possession of weapons|Offender sent to prison|Worcester|40        |Worcester|40    |\n",
      "|2013-05-01|Possession of weapons|Offender sent to prison|Worcester|40        |Worcester|40    |\n",
      "+----------+---------------------+-----------------------+---------+----------+---------+------+\n",
      "only showing top 10 rows\n",
      "\n"
     ]
    }
   ],
   "source": [
    "# replace nulls in Population column with the value in'values' column\n",
    "firearm_incidents2 = firearm_incidents2.withColumn(\"Population\",coalesce(firearm_incidents2.Population,\\\n",
    "                                                                         firearm_incidents2.values))\n",
    "firearm_incidents2.show(10, truncate = False)"
   ]
  },
  {
   "cell_type": "code",
   "execution_count": 37,
   "id": "e2040a87",
   "metadata": {},
   "outputs": [
    {
     "name": "stdout",
     "output_type": "stream",
     "text": [
      "+----------+---------+----------+\n",
      "|      Date| District|Population|\n",
      "+----------+---------+----------+\n",
      "|2013-05-01|Worcester|        40|\n",
      "|2013-05-01|Worcester|        40|\n",
      "|2013-05-01|Worcester|        40|\n",
      "+----------+---------+----------+\n",
      "only showing top 3 rows\n",
      "\n"
     ]
    }
   ],
   "source": [
    "# select just columns 'Date', 'District' and 'Population'\n",
    "firearm_incidents3 = firearm_incidents2.select('Date', 'District', 'Population')\n",
    "firearm_incidents3.show(3)"
   ]
  },
  {
   "cell_type": "code",
   "execution_count": 38,
   "id": "e8ccba19",
   "metadata": {},
   "outputs": [],
   "source": [
    "# get the monthly count of firearm incidents for each District and the sum of the population of all Postcodes under each\n",
    "# district\n",
    "firearm_incidents = firearm_incidents3.groupBy('Date', 'District').agg({'Population' : 'sum', 'Date' : 'count'})\\\n",
    "                                                                    .sort('Date', ascending=True)\n",
    "\n",
    "# rename aggregate columns as 'District_pop' and 'Crime_count'\n",
    "firearm_incidents = firearm_incidents.withColumnRenamed('sum(Population)','District_pop') \n",
    "firearm_incidents = firearm_incidents.withColumnRenamed('count(Date)','Crime_count') \n",
    "\n",
    "# add a column Crime count per population as 'Incidents_per_head'\n",
    "firearm_incidents = firearm_incidents.withColumn('Incidents_per_head', \\\n",
    "                                        (firearm_incidents['Crime_count']/firearm_incidents['District_pop'])*100)\n",
    "\n",
    "# add a 'Year' column\n",
    "firearm_incidents = firearm_incidents.withColumn('Year', year(col('Date')))\n"
   ]
  },
  {
   "cell_type": "code",
   "execution_count": 39,
   "id": "cb2bef3c",
   "metadata": {},
   "outputs": [
    {
     "name": "stdout",
     "output_type": "stream",
     "text": [
      "+----+---------+------------------+------------+------------------+\n",
      "|Year| District|      District_pop|Annual_count|Incidents_per_head|\n",
      "+----+---------+------------------+------------+------------------+\n",
      "|2013|Worcester|            6154.5|         616| 10.00893655049151|\n",
      "|2014|Worcester|           3776.75|         381|10.088038657575957|\n",
      "|2015|Worcester| 6857.428571428572|        1247| 18.18465897254281|\n",
      "|2016|Worcester|12079.833333333334|        1814|15.016763476317276|\n",
      "|2017|Worcester|          4489.875|         846| 18.84239538962666|\n",
      "+----+---------+------------------+------------+------------------+\n",
      "only showing top 5 rows\n",
      "\n"
     ]
    }
   ],
   "source": [
    "# get aggregate by year\n",
    "firearm_incidents_year = firearm_incidents.groupBy('Year', 'District').agg({'District_pop' : 'mean', 'Crime_count' : 'sum'})\n",
    "\n",
    "# rename aggregate columns 'District_pop' and 'annual_count'\n",
    "firearm_incidents_year = firearm_incidents_year.withColumnRenamed('avg(District_pop)','District_pop') \n",
    "firearm_incidents_year = firearm_incidents_year.withColumnRenamed('sum(Crime_count)','Annual_count') \n",
    "\n",
    "# add a column Crime count per population as 'Incidents_per_head'\n",
    "firearm_incidents_year = firearm_incidents_year.withColumn('Incidents_per_head', \\\n",
    "                                    (firearm_incidents_year['Annual_count']/firearm_incidents_year['District_pop'])*100)\n",
    "firearm_incidents_year.show(5)"
   ]
  },
  {
   "cell_type": "code",
   "execution_count": 41,
   "id": "7e945ee2",
   "metadata": {},
   "outputs": [
    {
     "name": "stdout",
     "output_type": "stream",
     "text": [
      "+----+-----------+------------+------------+------------------+---+\n",
      "|Year|   District|District_pop|Annual_count|Incidents_per_head|row|\n",
      "+----+-----------+------------+------------+------------------+---+\n",
      "|2018|Westminster|     51940.6|       14434|27.789436394650814|  1|\n",
      "|2018|    Norwich|      9402.0|        2564| 27.27079344820251|  2|\n",
      "|2018| Manchester|   48065.625|        9701|  20.1828229633964|  3|\n",
      "+----+-----------+------------+------------+------------------+---+\n",
      "only showing top 3 rows\n",
      "\n",
      "+----+----------+------------------+---+\n",
      "|Year|District  |Incidents_per_head|row|\n",
      "+----+----------+------------------+---+\n",
      "|2018|Birmingham|10.93089786098177 |41 |\n",
      "|2015|Birmingham|18.231348012615538|35 |\n",
      "|2013|Birmingham|12.912985274431058|43 |\n",
      "|2014|Birmingham|21.79861423379153 |22 |\n",
      "|2019|Birmingham|7.3733309139813645|17 |\n",
      "|2016|Birmingham|21.64806645932009 |20 |\n",
      "|2017|Birmingham|21.68214576589032 |19 |\n",
      "+----+----------+------------------+---+\n",
      "\n"
     ]
    }
   ],
   "source": [
    "# rank districts\n",
    "windowDept = Window.partitionBy(\"Year\").orderBy(col(\"Incidents_per_head\").desc())\n",
    "firearm_incidents_year_top=firearm_incidents_year.withColumn(\"row\",row_number().over(windowDept))\n",
    "firearm_incidents_year_top.show(3)\n",
    "\n",
    "# find the rank of Birmingham\n",
    "firearm_incidents_year_top.select('Year','District', 'Incidents_per_head', 'row').\\\n",
    "                            where(firearm_incidents_year_top['District'] == 'Birmingham').show(truncate = False)"
   ]
  },
  {
   "cell_type": "code",
   "execution_count": 42,
   "id": "013f1fb0",
   "metadata": {},
   "outputs": [
    {
     "data": {
      "text/html": [
       "<div>\n",
       "<style scoped>\n",
       "    .dataframe tbody tr th:only-of-type {\n",
       "        vertical-align: middle;\n",
       "    }\n",
       "\n",
       "    .dataframe tbody tr th {\n",
       "        vertical-align: top;\n",
       "    }\n",
       "\n",
       "    .dataframe thead th {\n",
       "        text-align: right;\n",
       "    }\n",
       "</style>\n",
       "<table border=\"1\" class=\"dataframe\">\n",
       "  <thead>\n",
       "    <tr style=\"text-align: right;\">\n",
       "      <th></th>\n",
       "      <th>Year</th>\n",
       "      <th>District</th>\n",
       "      <th>District_pop</th>\n",
       "      <th>Annual_count</th>\n",
       "      <th>Incidents_per_head</th>\n",
       "      <th>row</th>\n",
       "    </tr>\n",
       "  </thead>\n",
       "  <tbody>\n",
       "    <tr>\n",
       "      <th>0</th>\n",
       "      <td>2018</td>\n",
       "      <td>Westminster</td>\n",
       "      <td>51940.600000</td>\n",
       "      <td>14434</td>\n",
       "      <td>27.789436</td>\n",
       "      <td>1</td>\n",
       "    </tr>\n",
       "    <tr>\n",
       "      <th>1</th>\n",
       "      <td>2018</td>\n",
       "      <td>Norwich</td>\n",
       "      <td>9402.000000</td>\n",
       "      <td>2564</td>\n",
       "      <td>27.270793</td>\n",
       "      <td>2</td>\n",
       "    </tr>\n",
       "    <tr>\n",
       "      <th>2</th>\n",
       "      <td>2018</td>\n",
       "      <td>Manchester</td>\n",
       "      <td>48065.625000</td>\n",
       "      <td>9701</td>\n",
       "      <td>20.182823</td>\n",
       "      <td>3</td>\n",
       "    </tr>\n",
       "    <tr>\n",
       "      <th>3</th>\n",
       "      <td>2018</td>\n",
       "      <td>Plymouth</td>\n",
       "      <td>5664.714286</td>\n",
       "      <td>1115</td>\n",
       "      <td>19.683252</td>\n",
       "      <td>4</td>\n",
       "    </tr>\n",
       "    <tr>\n",
       "      <th>4</th>\n",
       "      <td>2018</td>\n",
       "      <td>County Durham</td>\n",
       "      <td>6999.857143</td>\n",
       "      <td>1348</td>\n",
       "      <td>19.257536</td>\n",
       "      <td>5</td>\n",
       "    </tr>\n",
       "    <tr>\n",
       "      <th>5</th>\n",
       "      <td>2015</td>\n",
       "      <td>Westminster</td>\n",
       "      <td>22763.400000</td>\n",
       "      <td>12980</td>\n",
       "      <td>57.021359</td>\n",
       "      <td>1</td>\n",
       "    </tr>\n",
       "    <tr>\n",
       "      <th>6</th>\n",
       "      <td>2015</td>\n",
       "      <td>Cheshire West and Chester</td>\n",
       "      <td>7768.500000</td>\n",
       "      <td>2576</td>\n",
       "      <td>33.159555</td>\n",
       "      <td>2</td>\n",
       "    </tr>\n",
       "    <tr>\n",
       "      <th>7</th>\n",
       "      <td>2015</td>\n",
       "      <td>County Durham</td>\n",
       "      <td>4655.000000</td>\n",
       "      <td>1511</td>\n",
       "      <td>32.459721</td>\n",
       "      <td>3</td>\n",
       "    </tr>\n",
       "    <tr>\n",
       "      <th>8</th>\n",
       "      <td>2015</td>\n",
       "      <td>Manchester</td>\n",
       "      <td>17463.166667</td>\n",
       "      <td>5076</td>\n",
       "      <td>29.066893</td>\n",
       "      <td>4</td>\n",
       "    </tr>\n",
       "    <tr>\n",
       "      <th>9</th>\n",
       "      <td>2015</td>\n",
       "      <td>Derby</td>\n",
       "      <td>20373.750000</td>\n",
       "      <td>5809</td>\n",
       "      <td>28.512179</td>\n",
       "      <td>5</td>\n",
       "    </tr>\n",
       "    <tr>\n",
       "      <th>10</th>\n",
       "      <td>2013</td>\n",
       "      <td>Westminster</td>\n",
       "      <td>34983.142857</td>\n",
       "      <td>13896</td>\n",
       "      <td>39.721989</td>\n",
       "      <td>1</td>\n",
       "    </tr>\n",
       "    <tr>\n",
       "      <th>11</th>\n",
       "      <td>2013</td>\n",
       "      <td>Cornwall</td>\n",
       "      <td>5145.500000</td>\n",
       "      <td>1333</td>\n",
       "      <td>25.906132</td>\n",
       "      <td>2</td>\n",
       "    </tr>\n",
       "    <tr>\n",
       "      <th>12</th>\n",
       "      <td>2013</td>\n",
       "      <td>Calderdale</td>\n",
       "      <td>8529.000000</td>\n",
       "      <td>1913</td>\n",
       "      <td>22.429359</td>\n",
       "      <td>3</td>\n",
       "    </tr>\n",
       "    <tr>\n",
       "      <th>13</th>\n",
       "      <td>2013</td>\n",
       "      <td>Rotherham</td>\n",
       "      <td>12626.142857</td>\n",
       "      <td>2758</td>\n",
       "      <td>21.843567</td>\n",
       "      <td>4</td>\n",
       "    </tr>\n",
       "    <tr>\n",
       "      <th>14</th>\n",
       "      <td>2013</td>\n",
       "      <td>Barnsley</td>\n",
       "      <td>7956.875000</td>\n",
       "      <td>1723</td>\n",
       "      <td>21.654230</td>\n",
       "      <td>5</td>\n",
       "    </tr>\n",
       "    <tr>\n",
       "      <th>15</th>\n",
       "      <td>2014</td>\n",
       "      <td>Westminster</td>\n",
       "      <td>34495.400000</td>\n",
       "      <td>19427</td>\n",
       "      <td>56.317654</td>\n",
       "      <td>1</td>\n",
       "    </tr>\n",
       "    <tr>\n",
       "      <th>16</th>\n",
       "      <td>2014</td>\n",
       "      <td>Rotherham</td>\n",
       "      <td>13351.600000</td>\n",
       "      <td>4029</td>\n",
       "      <td>30.176159</td>\n",
       "      <td>2</td>\n",
       "    </tr>\n",
       "    <tr>\n",
       "      <th>17</th>\n",
       "      <td>2014</td>\n",
       "      <td>Kingston upon Hull, City of</td>\n",
       "      <td>9577.083333</td>\n",
       "      <td>2875</td>\n",
       "      <td>30.019578</td>\n",
       "      <td>3</td>\n",
       "    </tr>\n",
       "    <tr>\n",
       "      <th>18</th>\n",
       "      <td>2014</td>\n",
       "      <td>Plymouth</td>\n",
       "      <td>5972.454545</td>\n",
       "      <td>1742</td>\n",
       "      <td>29.167237</td>\n",
       "      <td>4</td>\n",
       "    </tr>\n",
       "    <tr>\n",
       "      <th>19</th>\n",
       "      <td>2014</td>\n",
       "      <td>County Durham</td>\n",
       "      <td>5530.545455</td>\n",
       "      <td>1563</td>\n",
       "      <td>28.261227</td>\n",
       "      <td>5</td>\n",
       "    </tr>\n",
       "    <tr>\n",
       "      <th>20</th>\n",
       "      <td>2019</td>\n",
       "      <td>Westminster</td>\n",
       "      <td>23680.250000</td>\n",
       "      <td>5292</td>\n",
       "      <td>22.347737</td>\n",
       "      <td>1</td>\n",
       "    </tr>\n",
       "    <tr>\n",
       "      <th>21</th>\n",
       "      <td>2019</td>\n",
       "      <td>Norwich</td>\n",
       "      <td>3856.000000</td>\n",
       "      <td>543</td>\n",
       "      <td>14.081950</td>\n",
       "      <td>2</td>\n",
       "    </tr>\n",
       "    <tr>\n",
       "      <th>22</th>\n",
       "      <td>2019</td>\n",
       "      <td>Manchester</td>\n",
       "      <td>21467.400000</td>\n",
       "      <td>2752</td>\n",
       "      <td>12.819438</td>\n",
       "      <td>3</td>\n",
       "    </tr>\n",
       "    <tr>\n",
       "      <th>23</th>\n",
       "      <td>2019</td>\n",
       "      <td>Denbighshire</td>\n",
       "      <td>4153.666667</td>\n",
       "      <td>459</td>\n",
       "      <td>11.050477</td>\n",
       "      <td>4</td>\n",
       "    </tr>\n",
       "    <tr>\n",
       "      <th>24</th>\n",
       "      <td>2019</td>\n",
       "      <td>Leeds</td>\n",
       "      <td>28086.400000</td>\n",
       "      <td>3052</td>\n",
       "      <td>10.866469</td>\n",
       "      <td>5</td>\n",
       "    </tr>\n",
       "    <tr>\n",
       "      <th>25</th>\n",
       "      <td>2016</td>\n",
       "      <td>City of London</td>\n",
       "      <td>42095.500000</td>\n",
       "      <td>25383</td>\n",
       "      <td>60.298607</td>\n",
       "      <td>1</td>\n",
       "    </tr>\n",
       "    <tr>\n",
       "      <th>26</th>\n",
       "      <td>2016</td>\n",
       "      <td>Westminster</td>\n",
       "      <td>25669.200000</td>\n",
       "      <td>14049</td>\n",
       "      <td>54.730962</td>\n",
       "      <td>2</td>\n",
       "    </tr>\n",
       "    <tr>\n",
       "      <th>27</th>\n",
       "      <td>2016</td>\n",
       "      <td>Wakefield</td>\n",
       "      <td>10720.500000</td>\n",
       "      <td>3192</td>\n",
       "      <td>29.774731</td>\n",
       "      <td>3</td>\n",
       "    </tr>\n",
       "    <tr>\n",
       "      <th>28</th>\n",
       "      <td>2016</td>\n",
       "      <td>Plymouth</td>\n",
       "      <td>8073.181818</td>\n",
       "      <td>2381</td>\n",
       "      <td>29.492709</td>\n",
       "      <td>4</td>\n",
       "    </tr>\n",
       "    <tr>\n",
       "      <th>29</th>\n",
       "      <td>2016</td>\n",
       "      <td>Torbay</td>\n",
       "      <td>6902.555556</td>\n",
       "      <td>1927</td>\n",
       "      <td>27.917197</td>\n",
       "      <td>5</td>\n",
       "    </tr>\n",
       "    <tr>\n",
       "      <th>30</th>\n",
       "      <td>2017</td>\n",
       "      <td>City of London</td>\n",
       "      <td>37635.833333</td>\n",
       "      <td>22554</td>\n",
       "      <td>59.926931</td>\n",
       "      <td>1</td>\n",
       "    </tr>\n",
       "    <tr>\n",
       "      <th>31</th>\n",
       "      <td>2017</td>\n",
       "      <td>Westminster</td>\n",
       "      <td>48956.900000</td>\n",
       "      <td>26649</td>\n",
       "      <td>54.433594</td>\n",
       "      <td>2</td>\n",
       "    </tr>\n",
       "    <tr>\n",
       "      <th>32</th>\n",
       "      <td>2017</td>\n",
       "      <td>Calderdale</td>\n",
       "      <td>17669.285714</td>\n",
       "      <td>5612</td>\n",
       "      <td>31.761329</td>\n",
       "      <td>3</td>\n",
       "    </tr>\n",
       "    <tr>\n",
       "      <th>33</th>\n",
       "      <td>2017</td>\n",
       "      <td>Cornwall</td>\n",
       "      <td>7018.222222</td>\n",
       "      <td>2146</td>\n",
       "      <td>30.577544</td>\n",
       "      <td>4</td>\n",
       "    </tr>\n",
       "    <tr>\n",
       "      <th>34</th>\n",
       "      <td>2017</td>\n",
       "      <td>Norwich</td>\n",
       "      <td>6000.125000</td>\n",
       "      <td>1804</td>\n",
       "      <td>30.066040</td>\n",
       "      <td>5</td>\n",
       "    </tr>\n",
       "  </tbody>\n",
       "</table>\n",
       "</div>"
      ],
      "text/plain": [
       "    Year                     District  District_pop  Annual_count  \\\n",
       "0   2018                  Westminster  51940.600000         14434   \n",
       "1   2018                      Norwich   9402.000000          2564   \n",
       "2   2018                   Manchester  48065.625000          9701   \n",
       "3   2018                     Plymouth   5664.714286          1115   \n",
       "4   2018                County Durham   6999.857143          1348   \n",
       "5   2015                  Westminster  22763.400000         12980   \n",
       "6   2015    Cheshire West and Chester   7768.500000          2576   \n",
       "7   2015                County Durham   4655.000000          1511   \n",
       "8   2015                   Manchester  17463.166667          5076   \n",
       "9   2015                        Derby  20373.750000          5809   \n",
       "10  2013                  Westminster  34983.142857         13896   \n",
       "11  2013                     Cornwall   5145.500000          1333   \n",
       "12  2013                   Calderdale   8529.000000          1913   \n",
       "13  2013                    Rotherham  12626.142857          2758   \n",
       "14  2013                     Barnsley   7956.875000          1723   \n",
       "15  2014                  Westminster  34495.400000         19427   \n",
       "16  2014                    Rotherham  13351.600000          4029   \n",
       "17  2014  Kingston upon Hull, City of   9577.083333          2875   \n",
       "18  2014                     Plymouth   5972.454545          1742   \n",
       "19  2014                County Durham   5530.545455          1563   \n",
       "20  2019                  Westminster  23680.250000          5292   \n",
       "21  2019                      Norwich   3856.000000           543   \n",
       "22  2019                   Manchester  21467.400000          2752   \n",
       "23  2019                 Denbighshire   4153.666667           459   \n",
       "24  2019                        Leeds  28086.400000          3052   \n",
       "25  2016               City of London  42095.500000         25383   \n",
       "26  2016                  Westminster  25669.200000         14049   \n",
       "27  2016                    Wakefield  10720.500000          3192   \n",
       "28  2016                     Plymouth   8073.181818          2381   \n",
       "29  2016                       Torbay   6902.555556          1927   \n",
       "30  2017               City of London  37635.833333         22554   \n",
       "31  2017                  Westminster  48956.900000         26649   \n",
       "32  2017                   Calderdale  17669.285714          5612   \n",
       "33  2017                     Cornwall   7018.222222          2146   \n",
       "34  2017                      Norwich   6000.125000          1804   \n",
       "\n",
       "    Incidents_per_head  row  \n",
       "0            27.789436    1  \n",
       "1            27.270793    2  \n",
       "2            20.182823    3  \n",
       "3            19.683252    4  \n",
       "4            19.257536    5  \n",
       "5            57.021359    1  \n",
       "6            33.159555    2  \n",
       "7            32.459721    3  \n",
       "8            29.066893    4  \n",
       "9            28.512179    5  \n",
       "10           39.721989    1  \n",
       "11           25.906132    2  \n",
       "12           22.429359    3  \n",
       "13           21.843567    4  \n",
       "14           21.654230    5  \n",
       "15           56.317654    1  \n",
       "16           30.176159    2  \n",
       "17           30.019578    3  \n",
       "18           29.167237    4  \n",
       "19           28.261227    5  \n",
       "20           22.347737    1  \n",
       "21           14.081950    2  \n",
       "22           12.819438    3  \n",
       "23           11.050477    4  \n",
       "24           10.866469    5  \n",
       "25           60.298607    1  \n",
       "26           54.730962    2  \n",
       "27           29.774731    3  \n",
       "28           29.492709    4  \n",
       "29           27.917197    5  \n",
       "30           59.926931    1  \n",
       "31           54.433594    2  \n",
       "32           31.761329    3  \n",
       "33           30.577544    4  \n",
       "34           30.066040    5  "
      ]
     },
     "execution_count": 42,
     "metadata": {},
     "output_type": "execute_result"
    }
   ],
   "source": [
    "# extract just the top 5 districts for each year\n",
    "firearm_incidents_year_top_5=firearm_incidents_year_top.filter(col(\"row\") <= 5)\n",
    "# convert dataset to pandas dataframe for visualizations\n",
    "firearm_incidents_year_top_5PD = firearm_incidents_year_top_5.toPandas()\n",
    "firearm_incidents_year_top_5PD"
   ]
  },
  {
   "cell_type": "markdown",
   "id": "0fc740e6",
   "metadata": {},
   "source": [
    "### Observation\n",
    "\n",
    "The highest rate of firearm incidents for a District were 60.29% by City of London in 2015. Westminster and City of London districts ranked highly in the top 5 districts within the review period. \n",
    "\n",
    "Birmingham did not rank within the top 5 districts in any of the reviewed year. The highest rank ever obtained by the city was 17th in 2019."
   ]
  },
  {
   "cell_type": "markdown",
   "id": "f2423868",
   "metadata": {},
   "source": [
    "## Design, Development and reasoning behind use of multiple visualization methods, statistics, and machine learning Models, markdown, code, markdown"
   ]
  },
  {
   "cell_type": "markdown",
   "id": "d8c191f8",
   "metadata": {},
   "source": [
    "### Objective\n",
    "\n",
    "The results of the previous section are visualized below using bar charts. The top 5 cities for each year are plotted individually."
   ]
  },
  {
   "cell_type": "code",
   "execution_count": 49,
   "id": "21a5357d",
   "metadata": {},
   "outputs": [
    {
     "data": {
      "text/plain": [
       "[Text(0.5, 1.0, 'Incidents/head in each District in 2013')]"
      ]
     },
     "execution_count": 49,
     "metadata": {},
     "output_type": "execute_result"
    },
    {
     "data": {
      "image/png": "[encoded data removed]",
      "text/plain": [
       "<Figure size 360x360 with 1 Axes>"
      ]
     },
     "metadata": {},
     "output_type": "display_data"
    }
   ],
   "source": [
    "sns.set(rc = {'figure.figsize':(5,5)})\n",
    "yr2013 = firearm_incidents_year_top_5PD.loc[(firearm_incidents_year_top_5PD['Year'] == 2013),\\\n",
    "                                                                                        ['District', 'Incidents_per_head']] \n",
    "plt_2013 = sns.barplot(x = 'District', y = 'Incidents_per_head', data = yr2013)\n",
    "plt_2013.set_xticklabels(plt_2013.get_xticklabels(), rotation=90)\n",
    "plt_2013.set(title='Incidents/head in each District in 2013')\n"
   ]
  },
  {
   "cell_type": "code",
   "execution_count": 52,
   "id": "d30f44c2",
   "metadata": {},
   "outputs": [
    {
     "data": {
      "text/plain": [
       "[Text(0.5, 1.0, 'Incidents/head in each District in 2014')]"
      ]
     },
     "execution_count": 52,
     "metadata": {},
     "output_type": "execute_result"
    },
    {
     "data": {
      "image/png": "[encoded data removed]",
      "text/plain": [
       "<Figure size 360x360 with 1 Axes>"
      ]
     },
     "metadata": {},
     "output_type": "display_data"
    }
   ],
   "source": [
    "yr2014 = firearm_incidents_year_top_5PD.loc[(firearm_incidents_year_top_5PD['Year'] == 2014),\\\n",
    "                                                                                        ['District', 'Incidents_per_head']] \n",
    "plt_2014 = sns.barplot(x = 'District', y = 'Incidents_per_head', data = yr2014)\n",
    "plt_2014.set_xticklabels(plt_2014.get_xticklabels(), rotation=90)\n",
    "plt_2014.set(title='Incidents/head in each District in 2014')\n"
   ]
  },
  {
   "cell_type": "code",
   "execution_count": 53,
   "id": "4880c0ca",
   "metadata": {},
   "outputs": [
    {
     "data": {
      "text/plain": [
       "[Text(0.5, 1.0, 'Incidents/head in each District in 2015')]"
      ]
     },
     "execution_count": 53,
     "metadata": {},
     "output_type": "execute_result"
    },
    {
     "data": {
      "image/png": "[encoded data removed]",
      "text/plain": [
       "<Figure size 360x360 with 1 Axes>"
      ]
     },
     "metadata": {},
     "output_type": "display_data"
    }
   ],
   "source": [
    "yr2015 = firearm_incidents_year_top_5PD.loc[(firearm_incidents_year_top_5PD['Year'] == 2015),\\\n",
    "                                                                                        ['District', 'Incidents_per_head']] \n",
    "plt_2015 = sns.barplot(x = 'District', y = 'Incidents_per_head', data = yr2015)\n",
    "plt_2015.set_xticklabels(plt_2015.get_xticklabels(), rotation=90)\n",
    "plt_2015.set(title='Incidents/head in each District in 2015')"
   ]
  },
  {
   "cell_type": "code",
   "execution_count": 54,
   "id": "94ea4f7b",
   "metadata": {},
   "outputs": [
    {
     "data": {
      "text/plain": [
       "[Text(0.5, 1.0, 'Incidents/head in each District in 2016')]"
      ]
     },
     "execution_count": 54,
     "metadata": {},
     "output_type": "execute_result"
    },
    {
     "data": {
      "image/png": "[encoded data removed]",
      "text/plain": [
       "<Figure size 360x360 with 1 Axes>"
      ]
     },
     "metadata": {},
     "output_type": "display_data"
    }
   ],
   "source": [
    "yr2016 = firearm_incidents_year_top_5PD.loc[(firearm_incidents_year_top_5PD['Year'] == 2016),\\\n",
    "                                                                                        ['District', 'Incidents_per_head']] \n",
    "plt_2016 = sns.barplot(x = 'District', y = 'Incidents_per_head', data = yr2016)\n",
    "plt_2016.set_xticklabels(plt_2016.get_xticklabels(), rotation=90)\n",
    "plt_2016.set(title='Incidents/head in each District in 2016')"
   ]
  },
  {
   "cell_type": "code",
   "execution_count": 55,
   "id": "fc61e9b4",
   "metadata": {},
   "outputs": [
    {
     "data": {
      "text/plain": [
       "[Text(0.5, 1.0, 'Incidents/head in each District in 2017')]"
      ]
     },
     "execution_count": 55,
     "metadata": {},
     "output_type": "execute_result"
    },
    {
     "data": {
      "image/png": "[encoded data removed]",
      "text/plain": [
       "<Figure size 360x360 with 1 Axes>"
      ]
     },
     "metadata": {},
     "output_type": "display_data"
    }
   ],
   "source": [
    "yr2017 = firearm_incidents_year_top_5PD.loc[(firearm_incidents_year_top_5PD['Year'] == 2017),\\\n",
    "                                                                                        ['District', 'Incidents_per_head']] \n",
    "plt_2017 = sns.barplot(x = 'District', y = 'Incidents_per_head', data = yr2017)\n",
    "plt_2017.set_xticklabels(plt_2017.get_xticklabels(), rotation=90)\n",
    "plt_2017.set(title='Incidents/head in each District in 2017')"
   ]
  },
  {
   "cell_type": "code",
   "execution_count": 56,
   "id": "9a92dab2",
   "metadata": {},
   "outputs": [
    {
     "data": {
      "text/plain": [
       "[Text(0.5, 1.0, 'Incidents/head in each District in 2018')]"
      ]
     },
     "execution_count": 56,
     "metadata": {},
     "output_type": "execute_result"
    },
    {
     "data": {
      "image/png": "[encoded data removed]",
      "text/plain": [
       "<Figure size 360x360 with 1 Axes>"
      ]
     },
     "metadata": {},
     "output_type": "display_data"
    }
   ],
   "source": [
    "yr2018 = firearm_incidents_year_top_5PD.loc[(firearm_incidents_year_top_5PD['Year'] == 2018),\\\n",
    "                                                                                        ['District', 'Incidents_per_head']] \n",
    "plt_2018 = sns.barplot(x = 'District', y = 'Incidents_per_head', data = yr2018)\n",
    "plt_2018.set_xticklabels(plt_2018.get_xticklabels(), rotation=90)\n",
    "plt_2018.set(title='Incidents/head in each District in 2018')"
   ]
  },
  {
   "cell_type": "code",
   "execution_count": 57,
   "id": "042aa238",
   "metadata": {},
   "outputs": [
    {
     "data": {
      "text/plain": [
       "[Text(0.5, 1.0, 'Incidents/head in each District in 2019')]"
      ]
     },
     "execution_count": 57,
     "metadata": {},
     "output_type": "execute_result"
    },
    {
     "data": {
      "image/png": "[encoded data removed]",
      "text/plain": [
       "<Figure size 360x360 with 1 Axes>"
      ]
     },
     "metadata": {},
     "output_type": "display_data"
    }
   ],
   "source": [
    "yr2019 = firearm_incidents_year_top_5PD.loc[(firearm_incidents_year_top_5PD['Year'] == 2019),\\\n",
    "                                                                                        ['District', 'Incidents_per_head']] \n",
    "plt_2019 = sns.barplot(x = 'District', y = 'Incidents_per_head', data = yr2019)\n",
    "plt_2019.set_xticklabels(plt_2019.get_xticklabels(), rotation=90)\n",
    "plt_2019.set(title='Incidents/head in each District in 2019')"
   ]
  },
  {
   "cell_type": "markdown",
   "id": "79153c80",
   "metadata": {},
   "source": [
    "## Observations:\n",
    "\n",
    "From the charts above, Westminster/City of London ranked highly as Districts/Cities with highest incidence of firearm incidents per head between 2013 and 2019. Notably, Birmingham do not rank within the top 5 cities in any year.\n",
    "\n",
    "Hence second claim is False."
   ]
  },
  {
   "cell_type": "markdown",
   "id": "1d36e053",
   "metadata": {},
   "source": [
    "# Claim 3: Crimes involving firearms are closely associated with drugs offences"
   ]
  },
  {
   "cell_type": "markdown",
   "id": "6a6154e3",
   "metadata": {},
   "source": [
    "## Data Extraction and Filtering\n",
    "In this section, the relevant crime type (Firearm incidents) is extracted."
   ]
  },
  {
   "cell_type": "code",
   "execution_count": 58,
   "id": "4d654215",
   "metadata": {},
   "outputs": [
    {
     "name": "stdout",
     "output_type": "stream",
     "text": [
      "+----------------------------+\n",
      "|Crime type                  |\n",
      "+----------------------------+\n",
      "|Bicycle theft               |\n",
      "|Public order                |\n",
      "|Drugs                       |\n",
      "|Public disorder and weapons |\n",
      "|Other crime                 |\n",
      "|Robbery                     |\n",
      "|Criminal damage and arson   |\n",
      "|Theft from the person       |\n",
      "|Shoplifting                 |\n",
      "|Burglary                    |\n",
      "|Violent crime               |\n",
      "|Other theft                 |\n",
      "|Possession of weapons       |\n",
      "|Violence and sexual offences|\n",
      "|Vehicle crime               |\n",
      "|Anti-social behaviour       |\n",
      "+----------------------------+\n",
      "\n"
     ]
    }
   ],
   "source": [
    "# display unique crimes in Crime type column\n",
    "# use truncate = False to show full output\n",
    "df.select(\"Crime type\").distinct().show(truncate=False)"
   ]
  },
  {
   "cell_type": "code",
   "execution_count": 59,
   "id": "9d0c7cd4",
   "metadata": {},
   "outputs": [
    {
     "name": "stdout",
     "output_type": "stream",
     "text": [
      "+----------+----------+---------------------+\n",
      "|      Date|Crime type|Last outcome category|\n",
      "+----------+----------+---------------------+\n",
      "|2011-09-01|     Drugs|                 null|\n",
      "|2011-09-01|     Drugs|                 null|\n",
      "|2011-09-01|     Drugs|                 null|\n",
      "|2011-09-01|     Drugs|                 null|\n",
      "|2011-09-01|     Drugs|                 null|\n",
      "+----------+----------+---------------------+\n",
      "only showing top 5 rows\n",
      "\n"
     ]
    }
   ],
   "source": [
    "# extract the Date column and rows relating to 'Drugs' and 'Possession of weapons' Crime type only. For 'Possession \n",
    "# of weapons' Crime type, select rows where the Last outcome category is 'Offender sent to prison'\n",
    "drugs_guns = df.select(to_date(col(\"Month\"),\"yyyy-MM\").alias(\"Date\"),'Crime type', 'Last outcome category')\\\n",
    ".where((df['Crime type'] == 'Drugs') | (df['Crime type'] == 'Possession of weapons') & \\\n",
    "                                             (df['Last outcome category'] == 'Offender sent to prison'))\n",
    "drugs_guns.show(5)"
   ]
  },
  {
   "cell_type": "code",
   "execution_count": 60,
   "id": "ba5794fe",
   "metadata": {},
   "outputs": [
    {
     "name": "stdout",
     "output_type": "stream",
     "text": [
      "+---------------------+\n",
      "|Crime type           |\n",
      "+---------------------+\n",
      "|Drugs                |\n",
      "|Possession of weapons|\n",
      "+---------------------+\n",
      "\n"
     ]
    }
   ],
   "source": [
    "# confirm that only 'Drugs' and 'Possession of weapons' Crime types are selected\n",
    "drugs_guns.select(\"Crime type\").distinct().show(truncate=False)"
   ]
  },
  {
   "cell_type": "code",
   "execution_count": 61,
   "id": "f7528cb7",
   "metadata": {},
   "outputs": [
    {
     "name": "stdout",
     "output_type": "stream",
     "text": [
      "+---------------------------------------------------+\n",
      "|Last outcome category                              |\n",
      "+---------------------------------------------------+\n",
      "|Offender ordered to pay compensation               |\n",
      "|Offender given suspended prison sentence           |\n",
      "|Court result unavailable                           |\n",
      "|Defendant sent to Crown Court                      |\n",
      "|Offender given penalty notice                      |\n",
      "|Suspect charged as part of another case            |\n",
      "|null                                               |\n",
      "|Local resolution                                   |\n",
      "|Offender given a caution                           |\n",
      "|Offender given conditional discharge               |\n",
      "|Investigation complete; no suspect identified      |\n",
      "|Offender given absolute discharge                  |\n",
      "|Under investigation                                |\n",
      "|Awaiting court outcome                             |\n",
      "|Defendant found not guilty                         |\n",
      "|Offender sent to prison                            |\n",
      "|Further investigation is not in the public interest|\n",
      "|Further action is not in the public interest       |\n",
      "|Action to be taken by another organisation         |\n",
      "|Offender given community sentence                  |\n",
      "+---------------------------------------------------+\n",
      "only showing top 20 rows\n",
      "\n"
     ]
    }
   ],
   "source": [
    "# confirm that the dataset shows all outcomes of the 'Drugs' crime type as it is not specified that any of these categories\n",
    "# should be ignored\n",
    "drugs_guns.select(\"Last outcome category\").distinct().show(truncate=False)"
   ]
  },
  {
   "cell_type": "code",
   "execution_count": 62,
   "id": "58f85dd8",
   "metadata": {},
   "outputs": [
    {
     "name": "stdout",
     "output_type": "stream",
     "text": [
      "+-----------------------+\n",
      "|Last outcome category  |\n",
      "+-----------------------+\n",
      "|Offender sent to prison|\n",
      "+-----------------------+\n",
      "\n"
     ]
    }
   ],
   "source": [
    "# Confirm that only 'Possession of weapons' with 'Last outcome category' of 'Offender sent to prison' was selected since \n",
    "# this is the only situation that constitutes a 'Firearm incident'.\n",
    "drugs_guns.where((drugs_guns['Crime type'] == 'Possession of weapons')).select('Last outcome category').distinct()\\\n",
    "                                                                                                .show(truncate=False)"
   ]
  },
  {
   "cell_type": "markdown",
   "id": "ab98858b",
   "metadata": {},
   "source": [
    "### Design, Development and reasoning behind use of multiple visualization methods, statistics, and machine learning Models, markdown, code, markdown"
   ]
  },
  {
   "cell_type": "markdown",
   "id": "147dc0a4",
   "metadata": {},
   "source": [
    "### Objective\n",
    "This section follows the following steps to visualize the relationship between firearm incidents and drug offences.\n",
    "\n",
    "Step 1: Get monthly counts of both crimes and visualize their distributions.\n",
    "\n",
    "Step 2: Visualize the monthly counts of both crime types using a scatterplot."
   ]
  },
  {
   "cell_type": "code",
   "execution_count": 64,
   "id": "664d9bf3",
   "metadata": {},
   "outputs": [
    {
     "name": "stdout",
     "output_type": "stream",
     "text": [
      "+----------+-----+---------------------+\n",
      "|      Date|Drugs|Possession of weapons|\n",
      "+----------+-----+---------------------+\n",
      "|2011-09-01|16551|                    0|\n",
      "|2011-10-01|17932|                    0|\n",
      "|2011-11-01|17731|                    0|\n",
      "|2011-12-01|16816|                    0|\n",
      "|2012-01-01|17663|                    0|\n",
      "+----------+-----+---------------------+\n",
      "only showing top 5 rows\n",
      "\n"
     ]
    }
   ],
   "source": [
    "# get monthly count of the diffrent crime types: Drugs and Possession of weapons\n",
    "count_by_month = drugs_guns.groupBy('Date').pivot('Crime type').count()\n",
    "\n",
    "# replace nulls with zero and sort by Date\n",
    "count_by_month = count_by_month.na.fill(value=0, subset = ['Possession of weapons']).sort('Date', ascending = True)\n",
    "count_by_month.show(5)"
   ]
  },
  {
   "cell_type": "code",
   "execution_count": 66,
   "id": "a3606175",
   "metadata": {},
   "outputs": [
    {
     "data": {
      "text/plain": [
       "array([[<AxesSubplot:xlabel='Drugs', ylabel='Drugs'>,\n",
       "        <AxesSubplot:xlabel='Possession of weapons', ylabel='Drugs'>],\n",
       "       [<AxesSubplot:xlabel='Drugs', ylabel='Possession of weapons'>,\n",
       "        <AxesSubplot:xlabel='Possession of weapons', ylabel='Possession of weapons'>]],\n",
       "      dtype=object)"
      ]
     },
     "execution_count": 66,
     "metadata": {},
     "output_type": "execute_result"
    },
    {
     "data": {
      "image/png": "[encoded data removed]",
      "text/plain": [
       "<Figure size 720x720 with 4 Axes>"
      ]
     },
     "metadata": {},
     "output_type": "display_data"
    }
   ],
   "source": [
    "# visualize the distributions of the monthly count of Drugs and Possession of weapons \n",
    "monthly_drugs_guns = count_by_month.toPandas()\n",
    "scatter_matrix(monthly_drugs_guns, alpha=0.8, figsize= (10,10), diagonal ='kde')\n"
   ]
  },
  {
   "cell_type": "code",
   "execution_count": 67,
   "id": "a15acdd8",
   "metadata": {},
   "outputs": [
    {
     "data": {
      "text/plain": [
       "<AxesSubplot:xlabel='Possession of weapons', ylabel='Drugs'>"
      ]
     },
     "execution_count": 67,
     "metadata": {},
     "output_type": "execute_result"
    },
    {
     "data": {
      "image/png": "[encoded data removed]",
      "text/plain": [
       "<Figure size 360x360 with 1 Axes>"
      ]
     },
     "metadata": {},
     "output_type": "display_data"
    }
   ],
   "source": [
    "# visualize as a scatterplot\n",
    "sns.set(style='whitegrid')\n",
    "sns.scatterplot(y='Drugs', x='Possession of weapons', alpha=0.7, data=monthly_drugs_guns)"
   ]
  },
  {
   "cell_type": "markdown",
   "id": "71578c36",
   "metadata": {},
   "source": [
    "### Observation\n",
    "\n",
    "From the grid chart showing the distributions of both crime types, it can be observed that they have very different distributions with monthly count of Drug offences peaking around 12,000 while the Possession of weapons has 2 peaks namely: when there are zero count and around 160 per month. \n",
    "\n",
    "On the scatterplot, the relationship between these crime types cannot be easily determined hence it would be beneficial to calculate their correlation coefficients."
   ]
  },
  {
   "cell_type": "markdown",
   "id": "ad519e6a",
   "metadata": {},
   "source": [
    "## Selection, application, and reasoning behind use of statistical analysis and multiple evaluation measures "
   ]
  },
  {
   "cell_type": "markdown",
   "id": "1290fed5",
   "metadata": {},
   "source": [
    "### Objective \n",
    "\n",
    "In this section, the correlation coefficients are calculated using Pearson and Spearman methods. This is visualized using a heatmap. This will show the type of relationship between firearm crimes and drugs offences. \n",
    "\n",
    "From the previous section, there are many cases where there was no firearm incident."
   ]
  },
  {
   "cell_type": "code",
   "execution_count": 68,
   "id": "09dd173d",
   "metadata": {},
   "outputs": [],
   "source": [
    "# select all columns except the 'Date' column\n",
    "monthly_drugs_guns = count_by_month.select('Drugs', 'Possession of weapons')"
   ]
  },
  {
   "cell_type": "code",
   "execution_count": 69,
   "id": "d59e94da",
   "metadata": {},
   "outputs": [],
   "source": [
    "# vectorize the dataframe to be able to find the pearson correlation\n",
    "vector_col = \"corr_features\"\n",
    "assembler = VectorAssembler(inputCols=monthly_drugs_guns.columns, outputCol=vector_col) # to vectorize\n",
    "df_vector = assembler.transform(monthly_drugs_guns).select(vector_col) # to assemble vectors"
   ]
  },
  {
   "cell_type": "code",
   "execution_count": 70,
   "id": "53455db8",
   "metadata": {},
   "outputs": [],
   "source": [
    "# get Pearson (default) correlation matrix\n",
    "matrix = Correlation.corr(df_vector, vector_col)\n",
    "cor_np = matrix.collect()[0][matrix.columns[0]].toArray()"
   ]
  },
  {
   "cell_type": "code",
   "execution_count": 71,
   "id": "c5a08733",
   "metadata": {},
   "outputs": [],
   "source": [
    "# get the spearman correlations\n",
    "smatrix = Correlation.corr(df_vector, vector_col, method='spearman')\n",
    "scor_np = smatrix.collect()[0][smatrix.columns[0]].toArray()"
   ]
  },
  {
   "cell_type": "code",
   "execution_count": 72,
   "id": "711b27f4",
   "metadata": {},
   "outputs": [],
   "source": [
    "columns = ['Drugs', 'Possession of weapons']\n",
    "pcor = pd.DataFrame(cor_np, columns= columns, index = None)\n",
    "\n",
    "columns = ['Drugs', 'Possession of weapons']\n",
    "scor = pd.DataFrame(scor_np, columns= columns, index = None)"
   ]
  },
  {
   "cell_type": "code",
   "execution_count": 73,
   "id": "4d7895f0",
   "metadata": {},
   "outputs": [
    {
     "name": "stdout",
     "output_type": "stream",
     "text": [
      "      Drugs  Possession of weapons\n",
      "0  1.000000              -0.577656\n",
      "1 -0.577656               1.000000\n",
      "      Drugs  Possession of weapons\n",
      "0  1.000000              -0.568386\n",
      "1 -0.568386               1.000000\n"
     ]
    }
   ],
   "source": [
    "# present the results of both correlations\n",
    "print(pcor)\n",
    "print(scor)"
   ]
  },
  {
   "cell_type": "code",
   "execution_count": 75,
   "id": "e1a273a3",
   "metadata": {},
   "outputs": [
    {
     "data": {
      "text/plain": [
       "<AxesSubplot:>"
      ]
     },
     "execution_count": 75,
     "metadata": {},
     "output_type": "execute_result"
    },
    {
     "data": {
      "image/png": "[encoded data removed]",
      "text/plain": [
       "<Figure size 360x360 with 2 Axes>"
      ]
     },
     "metadata": {},
     "output_type": "display_data"
    }
   ],
   "source": [
    "# visualize the pearson correlation (to 2 decimal point)\n",
    "sns.heatmap(pcor, cmap = 'viridis', annot= True)"
   ]
  },
  {
   "cell_type": "code",
   "execution_count": 76,
   "id": "ed43e94b",
   "metadata": {},
   "outputs": [
    {
     "data": {
      "text/plain": [
       "<AxesSubplot:>"
      ]
     },
     "execution_count": 76,
     "metadata": {},
     "output_type": "execute_result"
    },
    {
     "data": {
      "image/png": "[encoded data removed]",
      "text/plain": [
       "<Figure size 360x360 with 2 Axes>"
      ]
     },
     "metadata": {},
     "output_type": "display_data"
    }
   ],
   "source": [
    "# visualize the spearman correlation (to 2 decimal point)\n",
    "sns.heatmap(scor, cmap = 'viridis', annot= True)"
   ]
  },
  {
   "cell_type": "code",
   "execution_count": 78,
   "id": "139f3c74",
   "metadata": {},
   "outputs": [],
   "source": [
    "# remove cases where Possession of weapons were zero\n",
    "count_by_month2 = count_by_month.select('Drugs', 'Possession of weapons').where(count_by_month['Possession of weapons']>0)\n",
    "\n",
    "# convert to pandas\n",
    "monthly_drugs_guns = count_by_month2.toPandas()\n",
    "\n",
    "# select all columns except the 'Date' column\n",
    "monthly_drugs_guns = count_by_month2.select('Drugs', 'Possession of weapons')\n",
    "\n",
    "# vectorize\n",
    "vector_col = \"corr_features\"\n",
    "assembler = VectorAssembler(inputCols=monthly_drugs_guns.columns, outputCol=vector_col) # to vectorize\n",
    "df_vector = assembler.transform(monthly_drugs_guns).select(vector_col) # to assemble vectors"
   ]
  },
  {
   "cell_type": "code",
   "execution_count": 79,
   "id": "19fad55f",
   "metadata": {},
   "outputs": [],
   "source": [
    "# get Pearson (default) correlation matrix\n",
    "matrix = Correlation.corr(df_vector, vector_col)\n",
    "cor_np = matrix.collect()[0][matrix.columns[0]].toArray()\n",
    "\n",
    "# get the spearman correlations\n",
    "smatrix = Correlation.corr(df_vector, vector_col, method='spearman')\n",
    "scor_np = smatrix.collect()[0][smatrix.columns[0]].toArray()\n",
    "\n",
    "columns = ['Drugs', 'Possession of weapons']\n",
    "pcor = pd.DataFrame(cor_np, columns= columns, index = None)\n",
    "\n",
    "columns = ['Drugs', 'Possession of weapons']\n",
    "scor = pd.DataFrame(scor_np, columns= columns, index = None)"
   ]
  },
  {
   "cell_type": "code",
   "execution_count": 80,
   "id": "5c904001",
   "metadata": {},
   "outputs": [
    {
     "name": "stdout",
     "output_type": "stream",
     "text": [
      "      Drugs  Possession of weapons\n",
      "0  1.000000              -0.045073\n",
      "1 -0.045073               1.000000\n",
      "      Drugs  Possession of weapons\n",
      "0  1.000000              -0.192923\n",
      "1 -0.192923               1.000000\n"
     ]
    }
   ],
   "source": [
    "# present the results of both correlations\n",
    "print(pcor)\n",
    "print(scor)"
   ]
  },
  {
   "cell_type": "code",
   "execution_count": 82,
   "id": "ab721586",
   "metadata": {},
   "outputs": [
    {
     "data": {
      "text/plain": [
       "<AxesSubplot:>"
      ]
     },
     "execution_count": 82,
     "metadata": {},
     "output_type": "execute_result"
    },
    {
     "data": {
      "image/png": "[encoded data removed]",
      "text/plain": [
       "<Figure size 360x360 with 2 Axes>"
      ]
     },
     "metadata": {},
     "output_type": "display_data"
    }
   ],
   "source": [
    "# visualize the pearson correlation (to 2 decimal point)\n",
    "sns.heatmap(pcor, cmap = 'viridis', annot= True)\n"
   ]
  },
  {
   "cell_type": "code",
   "execution_count": 83,
   "id": "b114313a",
   "metadata": {},
   "outputs": [
    {
     "data": {
      "text/plain": [
       "<AxesSubplot:>"
      ]
     },
     "execution_count": 83,
     "metadata": {},
     "output_type": "execute_result"
    },
    {
     "data": {
      "image/png": "[encoded data removed]",
      "text/plain": [
       "<Figure size 360x360 with 2 Axes>"
      ]
     },
     "metadata": {},
     "output_type": "display_data"
    }
   ],
   "source": [
    "# visualize the spearman correlation (to 2 decimal point)\n",
    "sns.heatmap(scor, cmap = 'viridis', annot= True)\n"
   ]
  },
  {
   "cell_type": "markdown",
   "id": "74a106f4",
   "metadata": {},
   "source": [
    "### Observations:\n",
    "\n",
    "From the plots results of the correlations (Spearman and Pearson) above, there is a moderate negative correlation between drug offences and firearm incidents. However, this relationship disappears if you discount instances where the count of firearm incident is zero.\n",
    "\n",
    "Hence, the claim that firearm incidents are closely associated with drug offences cannot be determined as true. Furthermore, in Jay, et al. (2019)’s research into the effects of demolishing unoccupied buildings on firearm violence and drugs, they concluded that while over 5 demolitions resulted in a 11% reduction in firearm incidents, no effect was observed for drug offences."
   ]
  },
  {
   "cell_type": "markdown",
   "id": "7c070e17",
   "metadata": {},
   "source": [
    "# 6. Detailed Analysis and consideration of the appropriateness of the solution for the initial problem markdown"
   ]
  },
  {
   "cell_type": "markdown",
   "id": "3dd3babf",
   "metadata": {},
   "source": [
    "The solutions obtained addressed the initial problem which was to determine the validity of the three claims made by Ross Kemp in September 2018. The approach leaned heavily in pyspark and SQL which is appropriate since the domain of this report is in big data and cloud computing. \n",
    "\n",
    "The approach followed was to utilize just enough data to access each claim instead of extracting the data to access all claims at the beginning of the exercise. This approach was taken in consideration of the memory since the size of the dataset is big. \n",
    "To access the first and third claims, only all_crimes dataset was utilized as it was sufficient to obtain the counts of the relevant crimes whereas the postcode dataset was added to the all_crimes dataset in order to obtain the count of firearm incidents by different locations in the UK. \n",
    "\n",
    "The postcode dataset was utilized because it contained LSOA information which was more accurate than longitude and latitude in all_crimes dataset due to anonymization. The postcode dataset also had information about population which was needed to calculate the rate of crime per head.\n"
   ]
  },
  {
   "cell_type": "markdown",
   "id": "bf15d0af",
   "metadata": {},
   "source": [
    "# 7. Evaluation and Conclusion"
   ]
  },
  {
   "cell_type": "markdown",
   "id": "5d8d57d1",
   "metadata": {},
   "source": [
    "This report analyzed crime data retrieved from the UK’s public crime website to understand the trend of violent crimes, firearm incidents, and drug offences in the UK between 2010 and 2021. Specifically, the analysis was focused on accessing Ross Kemp’s 2018 claims that violent crimes are increasing, the rate of firearm incidents per head are higher in Birmingham than any other place in the UK and there is a close association between firearm incidents and drug offences. \n",
    "\n",
    "The results showed that both monthly count and average annual count of violent crimes were  increasing year-on-year between 2014 and 2018 confirming the first claim. \n",
    "\n",
    "However, Westminster district dominated the top 5 rankings in rate of firearm incidents per head within the review period while Birmingham ranked between 17th and 43rd within 2013 and 2019 in contrast to the second claim. Perhaps the exclusion of all other outcomes except when the offender was sent to prison affected Birmingham’s position. \n",
    "\n",
    "Similarly, the report showed that while there is a moderate negative relationship between firearm incidents and drug offences, this is strongly influenced by including instances where there were no records of firearm incidents. When these are discarded, there are little to no association between these crimes. Hence, the validity of the third claim cannot be determined. "
   ]
  },
  {
   "cell_type": "markdown",
   "id": "91691d60",
   "metadata": {},
   "source": [
    "# 8. References and Citation"
   ]
  },
  {
   "cell_type": "markdown",
   "id": "04fa2b64",
   "metadata": {},
   "source": [
    "[1] L. Tompson, S. Johnson, M. Ashby, C. Perkins, and P. Edwards, 'UK open source crime data: accuracy and possibilities for research', Cartography and Geographic Information Science, vol. 42, no. 2, pp. 97-111, Oct. 2014, doi: 10.1080/15230406.2014.972456\n",
    "\n",
    "[2] The Crown Prosecution Service. “Violent Crime.” \n",
    "Available at: https://www.cps.gov.uk/crime-info/violent-crime (accessed 04 Dec. 2022).\n",
    "\n",
    "[3] Federal Bureau of Investigations (FBI). “Crime in the United States.”\n",
    "Available at: https://ucr.fbi.gov/crime-in-the-u.s/2010/crime-in-the-u.s.-2010/violent-crime (accessed 04 Dec. 2020).\n",
    "\n",
    "[4] Office of National Statistics. Gun deaths from 1980 to 2018, London, England: Office of National Statistics, 2018.\n",
    "\n",
    "[5] Huffpost (2018) Is Birmingham Still The Gang And Gun Crime Capital Of The UK?. \n",
    "Available at: https://www.huffingtonpost.co.uk/entry/birmingham-gun-gang-crime_uk_5b3dfcd6e4b07b827cbdecc3 (accessed 04 Dec. 2022).\n",
    "[6] J. Gunn, P. Boxer, T. Andrews, M. Ostermann, S. Bonne, M. Gusmano, E. Sloan-Power, and B. Hohl, “The Impact of Firearm Legislation on Firearm Deaths, 1991–2017,” Journal of Public Health, vol. 44, no.3, pp. 614–624, Aug. 2022, doi: 10.1093/pubmed/fdab047\n",
    "\n",
    "[7] C. Hohl, S. Wiley, J. Wiebe, J. Culyba, R. Drake, and C. Branas, “Association of Drug and Alcohol Use With Adolescent Firearm Homicide at Individual, Family, and Neighborhood Levels,”  JAMA Internal Medicine, vol. 177, no. 3, pp. 317–324, Mar. 2017, doi: 10.1001/jamainternmed.2016.8180\n",
    "\n",
    "[8] D. Lester and E. Murrell, “The preventive effect of strict gun control laws on suicide and homicide,” Suicide Life-Threat Behaviour, vol. 12, no. 3, pp. 131-140, Oct. 1982, doi: 10.1111/j.1943-278X.1982.tb00935.x\n",
    "\n",
    "[9] J. Gunn, P. Boxer, T. Andrews, M. Ostermann, S. Bonne, M. Gusmano, E. Sloan-Power, and B. Hohl, “The Impact of Firearm Legislation on Firearm Deaths, 1991–2017,” Journal of Public Health, vol. 44, no.3, pp. 614–624, Aug. 2022, doi: 10.1093/pubmed/fdab047\n",
    "\n",
    "[10] J. Donohue, V. Cai, V. Bondy, and J. Cook, “More Guns, More Unintended Consequences: The Effects of Right-to-Carry on Criminal Behaviour and Policing in US Cities,” National Bureau of Economic Research, Jan. 2022, doi: 10.2139/ssrn.4147260\n",
    "\n",
    "[11] S. M. Ganpat, L. Garius, A. Tseloni, and N. Tilley, “Violence and the crime drop,” European Journal of Criminology, vol. 19, no. 4, pp. 767–790, May 2022, doi: 10.1177/1477370820913456 \n",
    "\n",
    "[12] C. Lightowlers, J. Pina-Sánchez, and F. McLaughlin, “The role of deprivation and alcohol availability in shaping trends in violent crime,” European Journal of Criminology, Aug. 2021, doi: 10.1177/14773708211036081\n",
    "\n",
    "[13] L. Liu, J. Chang, D. Long, and H. Liu, “Analyzing the Impact of COVID-19 Lockdowns on Violent Crime,” Journal of Environmental Research and Public Health, vol. 19, no. 23, Nov. 2022, doi: 10.3390/ijerph192315525\n",
    "\n",
    "[14] J. Jay, L. W. Miratrix, C. Branas, M. A. Zimmerman, and D. Hemenway, “Urban building demolitions, firearm violence and drug crime,” Journal of Behavioral Medicine,  vol. 42, no.1, pp. 626–634, Aug. 2019, doi: 10.1007/s10865-019-00031-6"
   ]
  },
  {
   "cell_type": "code",
   "execution_count": null,
   "id": "b57ac659",
   "metadata": {},
   "outputs": [],
   "source": []
  }
 ],
 "metadata": {
  "kernelspec": {
   "display_name": "Python 3 (ipykernel)",
   "language": "python",
   "name": "python3"
  },
  "language_info": {
   "codemirror_mode": {
    "name": "ipython",
    "version": 3
   },
   "file_extension": ".py",
   "mimetype": "text/x-python",
   "name": "python",
   "nbconvert_exporter": "python",
   "pygments_lexer": "ipython3",
   "version": "3.9.7"
  }
 },
 "nbformat": 4,
 "nbformat_minor": 5
}
